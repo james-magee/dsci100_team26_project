{
 "cells": [
  {
   "cell_type": "markdown",
   "id": "fad8220d-c8a2-49a5-ad56-cb083d343d41",
   "metadata": {},
   "source": [
    "# dsci100_team26_project\n",
    "\n",
    "From the Jupyter Server Menu:\n",
    "git -> clone_repository -> enter github info -> done\n",
    "\n",
    "I. Introduction <br>\n",
    "&nbsp; a. Brief Overview of the Project  <br>\n",
    "&nbsp; b. Brief Literature Review  <br>\n",
    "&nbsp; c. Describing the Data Set and how we will use it  <span style=\"color: green\">[CODE - put in appendix]</span><br> \n",
    "II. Methods <br>\n",
    "&nbsp; a. Methodology summary  <br>\n",
    "&nbsp; b. Preparation (Loading, Wrangling, and Cleaning the Data)  <br>\n",
    "&nbsp;\n",
    "&nbsp;\n",
    "&nbsp; Lebron James Example <br>\n",
    "&nbsp; c. Exploratory Data Analysis  <br>\n",
    "&nbsp; d. (Hypothesized) Initial Model Parameter Selection  <br>\n",
    "&nbsp; e. Optimizing training-model via Forward Model Selection  <br>\n",
    "&nbsp; d. Optimizing training-model using all Param subsets for Selection <span style=\"color: red\">[CODE - put in appendix]</span>  <br>\n",
    "III. Results <br>\n",
    "&nbsp; a. Results Overview  <br>\n",
    "&nbsp; b. Best Model (probably from Param Selection)  <br>\n",
    "&nbsp; c. Testing best model on the testing data <br>\n",
    "&nbsp; d. Visualization of results <br>\n",
    "IV. Sources <br>\n",
    "V. Appendices\n",
    "\n",
    "\n",
    "Create R libraries\n",
    "\n",
    "\n",
    "\n",
    "1. Finish Methods \n",
    "    Build initial classification\n",
    "        Use forward selection \n",
    "        Use all sub-set selection\n",
    "    Change to trying to predict Guards vs. Forwards\n",
    "    Take initial date, change positions, re-split, re-visualize training data, then build knn model with all subset selection\n",
    "    "
   ]
  },
  {
   "cell_type": "code",
   "execution_count": 1,
   "id": "c8190bc8-2cab-4738-8b9f-9966d641b3a6",
   "metadata": {
    "deletable": false,
    "editable": false,
    "tags": []
   },
   "outputs": [
    {
     "name": "stderr",
     "output_type": "stream",
     "text": [
      "── \u001b[1mAttaching packages\u001b[22m ─────────────────────────────────────── tidyverse 1.3.2 ──\n",
      "\u001b[32m✔\u001b[39m \u001b[34mggplot2\u001b[39m 3.4.0      \u001b[32m✔\u001b[39m \u001b[34mpurrr  \u001b[39m 0.3.5 \n",
      "\u001b[32m✔\u001b[39m \u001b[34mtibble \u001b[39m 3.1.8      \u001b[32m✔\u001b[39m \u001b[34mdplyr  \u001b[39m 1.0.10\n",
      "\u001b[32m✔\u001b[39m \u001b[34mtidyr  \u001b[39m 1.2.1      \u001b[32m✔\u001b[39m \u001b[34mstringr\u001b[39m 1.4.1 \n",
      "\u001b[32m✔\u001b[39m \u001b[34mreadr  \u001b[39m 2.1.3      \u001b[32m✔\u001b[39m \u001b[34mforcats\u001b[39m 0.5.2 \n",
      "── \u001b[1mConflicts\u001b[22m ────────────────────────────────────────── tidyverse_conflicts() ──\n",
      "\u001b[31m✖\u001b[39m \u001b[34mdplyr\u001b[39m::\u001b[32mfilter()\u001b[39m masks \u001b[34mstats\u001b[39m::filter()\n",
      "\u001b[31m✖\u001b[39m \u001b[34mdplyr\u001b[39m::\u001b[32mlag()\u001b[39m    masks \u001b[34mstats\u001b[39m::lag()\n",
      "── \u001b[1mAttaching packages\u001b[22m ────────────────────────────────────── tidymodels 1.0.0 ──\n",
      "\n",
      "\u001b[32m✔\u001b[39m \u001b[34mbroom       \u001b[39m 1.0.1     \u001b[32m✔\u001b[39m \u001b[34mrsample     \u001b[39m 1.1.0\n",
      "\u001b[32m✔\u001b[39m \u001b[34mdials       \u001b[39m 1.1.0     \u001b[32m✔\u001b[39m \u001b[34mtune        \u001b[39m 1.0.1\n",
      "\u001b[32m✔\u001b[39m \u001b[34minfer       \u001b[39m 1.0.3     \u001b[32m✔\u001b[39m \u001b[34mworkflows   \u001b[39m 1.1.2\n",
      "\u001b[32m✔\u001b[39m \u001b[34mmodeldata   \u001b[39m 1.0.1     \u001b[32m✔\u001b[39m \u001b[34mworkflowsets\u001b[39m 1.0.0\n",
      "\u001b[32m✔\u001b[39m \u001b[34mparsnip     \u001b[39m 1.0.3     \u001b[32m✔\u001b[39m \u001b[34myardstick   \u001b[39m 1.1.0\n",
      "\u001b[32m✔\u001b[39m \u001b[34mrecipes     \u001b[39m 1.0.3     \n",
      "\n",
      "── \u001b[1mConflicts\u001b[22m ───────────────────────────────────────── tidymodels_conflicts() ──\n",
      "\u001b[31m✖\u001b[39m \u001b[34mscales\u001b[39m::\u001b[32mdiscard()\u001b[39m masks \u001b[34mpurrr\u001b[39m::discard()\n",
      "\u001b[31m✖\u001b[39m \u001b[34mdplyr\u001b[39m::\u001b[32mfilter()\u001b[39m   masks \u001b[34mstats\u001b[39m::filter()\n",
      "\u001b[31m✖\u001b[39m \u001b[34mrecipes\u001b[39m::\u001b[32mfixed()\u001b[39m  masks \u001b[34mstringr\u001b[39m::fixed()\n",
      "\u001b[31m✖\u001b[39m \u001b[34mdplyr\u001b[39m::\u001b[32mlag()\u001b[39m      masks \u001b[34mstats\u001b[39m::lag()\n",
      "\u001b[31m✖\u001b[39m \u001b[34myardstick\u001b[39m::\u001b[32mspec()\u001b[39m masks \u001b[34mreadr\u001b[39m::spec()\n",
      "\u001b[31m✖\u001b[39m \u001b[34mrecipes\u001b[39m::\u001b[32mstep()\u001b[39m   masks \u001b[34mstats\u001b[39m::step()\n",
      "\u001b[34m•\u001b[39m Learn how to get started at \u001b[32mhttps://www.tidymodels.org/start/\u001b[39m\n",
      "\n"
     ]
    }
   ],
   "source": [
    "library(tidyverse)\n",
    "library(tidymodels)"
   ]
  },
  {
   "cell_type": "markdown",
   "id": "210218c9-0f65-40ac-b063-79fb678143ca",
   "metadata": {
    "tags": []
   },
   "source": [
    "# Abstract\n",
    "\n",
    "We build four classification models. First, we  improving on an initial hypothesis "
   ]
  },
  {
   "cell_type": "markdown",
   "id": "5953031b-e24a-436f-949f-44e74ac513e6",
   "metadata": {
    "jp-MarkdownHeadingCollapsed": true,
    "tags": []
   },
   "source": [
    "# Introduction <a name=\"introduction\"></a>"
   ]
  },
  {
   "cell_type": "markdown",
   "id": "2028446c-d7ae-49d0-8e22-7763cf4d4c92",
   "metadata": {
    "jp-MarkdownHeadingCollapsed": true,
    "tags": []
   },
   "source": [
    "This project is inspired by the ambiguity of basketball positions, based on how the game is played in National-Basketball-Association (NBA) regulation basketball, and the aptness of this question as a classification exercise.\n",
    "\n",
    "In NBA Basketball, there are no players consistently on offense or defense, unlike Football/Soccer and American Football and Baseball. Instead, when possession of the ball changes teams, the same players who were just on defense immediately begin playing offense, and vice-versa. This makes the role of each player harder to understand for someone watching basketball for the first time. In fact, many first-time basketball viewers may not realize that there are positions at all, and junior/recreational basketball teams frequently play without positions. The goal of our work here is to suggest whether these positions exist largely as formalities, or if <u>players' positions can be classified by their past gameplay statistics</u>.\n",
    "\n",
    "<b>Background</b>\n",
    "\n",
    "Below is a table describing the 5 different basketball positions, and an accompanying figure showing where each position is usually found.\n",
    "\n",
    "<br>\n",
    "\n",
    "| Position      | Description |\n",
    "| ----------- | ----------- |\n",
    "| Point Guard (PG)      | Text       |\n",
    "| Shooting Guard (SG)   | Text        |\n",
    "| Small Forward (SF)   | Text        |\n",
    "| Power Forward (PF)   | Text        |\n",
    "| Center (C)   | Text        |\n",
    "\n",
    "<br>\n",
    "\n",
    "\n",
    "<img align=\"center\"\n",
    "     src=\"https://upload.wikimedia.org/wikipedia/commons/a/ac/Basketball_Positions.png\" width=\"400\" height=\"400\"\n",
    "     alt=\"imageinfo\" \n",
    "     style=\"\"/>\n",
    "\n",
    "\n",
    "\n",
    "\n",
    "\n",
    "<br><br><br>\n",
    "<b> Literature Review </b>\n",
    "\n",
    "\n",
    "<br><br><br>\n",
    "<b> Data </b>\n",
    "\n",
    "The data we are working with comes from basketball-reference.com ... \n"
   ]
  },
  {
   "cell_type": "markdown",
   "id": "bbff44e2-efa1-49eb-b70e-07d40940e0df",
   "metadata": {
    "tags": []
   },
   "source": [
    "# Methods"
   ]
  },
  {
   "cell_type": "markdown",
   "id": "d11b6720-8c0b-43ef-b17f-9d8411c4a900",
   "metadata": {},
   "source": [
    "Before starting, we ensure the appropriate libraries are installed, and a seed is set in order to ensure the reproducibility of this notebook. \n",
    "\n",
    "We  begin our investigation by loading and wrangling the season statistics. From the raw data, we select 7 non-derived (no ratios, percentages, etc.), gameplay statistics. Throughout this notebook these statistics will be referred to by their abbreviations given below.\n",
    "\n",
    "| Abbreviation      | Full | Description (# = number of times a player ...) | \n",
    "| ----------- | ----------- | ----------- \n",
    "| BLK         | Blocks      | # blocks the opposing team from scoring\n",
    "| AST         | Assists     | # passes to another player on their team who scores\n",
    "| STL         | Steals      | # steals the ball from the opposing team\n",
    "| PF       | Personal Fouls | # fouls a member of the opposing team\n",
    "| TRB      | Total Rebounds | # gains possession of the ball after an attempted basket (from their team or opposing)\n",
    "| MP       | Minutes Played | # plays for a whole minute\n",
    "| 3PA     | 3 Point Attempts| # shoots from outside the 3 - point line (far from the basket)\n",
    "\n",
    "<br>\n",
    "\n",
    "Next, we load and wrangle additional data containing every NBA player's height and weight, and merge this with the season statistics, resulting in a new dataset that has the cumulative statistics for *each position* that each player has played in the NBA from 2000 to 2015, and their height and weight (which doesn't vary between position.). We divide each player's cumulative gameplay statistics by the total minutes they've played throughout either their career or the years 2000 - 2015 (whichever is less) to account for the varying game time of each player in the time frame under consideration.\n",
    "\n",
    "We then conduct an exploratory analysis and build an initial classification model. Finding this initial model's low accuracy on training data unsatisfying, we try to optimize it using the *forward selection* technique to select the best combination of parameters. This does little to improve its accuracy, so we then develop a second classification model used to predict between just two types of positions: Guards and Forwards. This second model performs significantly better on its training data, so we continue with it to the testing stage. We discuss our different models and the implication of their different accuracy to our research question in the [Discussion](#discussion) section."
   ]
  },
  {
   "cell_type": "markdown",
   "id": "805d13f1-9fe2-4cff-aa9c-790c6febbe51",
   "metadata": {
    "tags": []
   },
   "source": [
    "## Setup"
   ]
  },
  {
   "cell_type": "markdown",
   "id": "2b1ee499-8187-4fe6-9dc8-ba42153c3605",
   "metadata": {},
   "source": [
    "Below we load the typical DSCI100 packages, the viridis library to ensure our visualizations are accessible, and three additional mini packages that we purpose-built for this project: \n",
    "- `bball_scrape` : collects data from *basketball-reference.com* (we have followed the protocol set forth in <a href=\"https://datasciencebook.ca/reading.html#obtaining-data-from-the-web\">Chapter 2 of *Data Science: A First Introduction*</a> to ensure we are webscraping ethically.) \n",
    "- `forward_selection` : optimizies which predictor variables are used in our classification model\n",
    "- `best_subset_selection` : further optimizes which predictor variables to use\n",
    "\n",
    "We include the code for these packages in the appendices. Because the techniques used in these packages were not discussed in class we do not devote many words to describing them in this notebook, but we do include a README.md describing each of them in their respective github repositories, which are listed alongside their code in the [appendices](#appendices)."
   ]
  },
  {
   "cell_type": "code",
   "execution_count": 10,
   "id": "9c106f98-78aa-40ce-bb78-e6a39ce21f74",
   "metadata": {
    "tags": []
   },
   "outputs": [],
   "source": [
    "library(tidyverse)\n",
    "library(tidymodels)\n",
    "library(viridis)\n",
    "\n",
    "# library(devtools)\n",
    "# install_github(\"james-magee/bball_scrape\")\n",
    "# install_github(\"james-magee/forward_selection\")\n",
    "# install_github(\"james-magee/best_subset_selection\")\n",
    "\n",
    "# library(bball_scrape)\n",
    "# library(forward_selection)\n",
    "# library(best_subset_selection)\n",
    "\n",
    "set.seed(2023)"
   ]
  },
  {
   "cell_type": "markdown",
   "id": "3c19e566-5e61-4282-b804-7f3e4c83d0fc",
   "metadata": {
    "tags": []
   },
   "source": [
    "## Loading and Wrangling the Data"
   ]
  },
  {
   "cell_type": "markdown",
   "id": "282c39bb-7d35-4585-952a-2fcec013e3d5",
   "metadata": {},
   "source": [
    "To begin our analysis, we need data! We break this process into 4 steps:\n",
    "1. Load the raw data from our [webscraping library](#appendix1)\n",
    "2. Filter rows, select columns, and rename columns: \n",
    "    * Filter the raw data to remove:\n",
    "        * rows where `MP == 0` (minutes played). We will later divide each predictor column by `MP` so it can't be zero.\n",
    "        * rows where `Year` is outside the 2000-2015 range.\n",
    "        * rows where `Pos` is not one of the 5 common positions in Basketball today (see [Methods](#methods))\n",
    "    * Select the columns we are interested in (see [Methods](#methods))\n",
    "    * Rename non-predictor columns to be lowercase, and convert the `Pos` column from type character-string to factor. \n",
    "3. Consolidate rows containing statistics for the same player and position.\n",
    "4. Load and wrangle the player height and weight data\n",
    "5. Merge the player height and weight data with the season statistics"
   ]
  },
  {
   "cell_type": "code",
   "execution_count": 18,
   "id": "d793d649-1f87-4a8f-8791-d98935b2f195",
   "metadata": {
    "tags": []
   },
   "outputs": [
    {
     "name": "stderr",
     "output_type": "stream",
     "text": [
      "\u001b[1m\u001b[22mNew names:\n",
      "\u001b[36m•\u001b[39m `` -> `...1`\n"
     ]
    },
    {
     "data": {
      "text/html": [
       "<table class=\"dataframe\">\n",
       "<caption>A tibble: 6 × 19</caption>\n",
       "<thead>\n",
       "\t<tr><th scope=col>Year</th><th scope=col>Player</th><th scope=col>Pos</th><th scope=col>Age</th><th scope=col>Tm</th><th scope=col>G</th><th scope=col>GS</th><th scope=col>MP</th><th scope=col>PER</th><th scope=col>TS%</th><th scope=col>3PAr</th><th scope=col>FTr</th><th scope=col>ORB%</th><th scope=col>DRB%</th><th scope=col>TRB%</th><th scope=col>AST%</th><th scope=col>STL%</th><th scope=col>BLK%</th><th scope=col>TOV%</th></tr>\n",
       "\t<tr><th scope=col>&lt;dbl&gt;</th><th scope=col>&lt;chr&gt;</th><th scope=col>&lt;chr&gt;</th><th scope=col>&lt;dbl&gt;</th><th scope=col>&lt;chr&gt;</th><th scope=col>&lt;dbl&gt;</th><th scope=col>&lt;dbl&gt;</th><th scope=col>&lt;dbl&gt;</th><th scope=col>&lt;dbl&gt;</th><th scope=col>&lt;dbl&gt;</th><th scope=col>&lt;dbl&gt;</th><th scope=col>&lt;dbl&gt;</th><th scope=col>&lt;dbl&gt;</th><th scope=col>&lt;dbl&gt;</th><th scope=col>&lt;dbl&gt;</th><th scope=col>&lt;dbl&gt;</th><th scope=col>&lt;dbl&gt;</th><th scope=col>&lt;dbl&gt;</th><th scope=col>&lt;dbl&gt;</th></tr>\n",
       "</thead>\n",
       "<tbody>\n",
       "\t<tr><td>1980</td><td>Tiny Archibald*</td><td>PG</td><td>31</td><td>BOS</td><td>80</td><td>80</td><td>2864</td><td>15.3</td><td>0.574</td><td>0.023</td><td>0.548</td><td> 2.3</td><td> 5.3</td><td> 3.8</td><td>30.2</td><td>1.7</td><td>0.2</td><td>19.7</td></tr>\n",
       "\t<tr><td>1980</td><td>Larry Bird*    </td><td>PF</td><td>23</td><td>BOS</td><td>82</td><td>82</td><td>2955</td><td>20.5</td><td>0.538</td><td>0.098</td><td>0.246</td><td> 8.3</td><td>23.6</td><td>16.0</td><td>18.5</td><td>2.3</td><td>1.0</td><td>14.0</td></tr>\n",
       "\t<tr><td>1980</td><td>M.L. Carr      </td><td>SF</td><td>29</td><td>BOS</td><td>82</td><td> 7</td><td>1994</td><td>14.6</td><td>0.526</td><td>0.054</td><td>0.316</td><td> 6.0</td><td>12.3</td><td> 9.2</td><td>10.7</td><td>2.8</td><td>1.0</td><td>14.1</td></tr>\n",
       "\t<tr><td>1980</td><td>Don Chaney     </td><td>SG</td><td>33</td><td>BOS</td><td>60</td><td> 0</td><td> 523</td><td> 7.8</td><td>0.402</td><td>0.032</td><td>0.222</td><td> 6.7</td><td> 8.8</td><td> 7.8</td><td> 9.3</td><td>2.8</td><td>1.2</td><td>13.7</td></tr>\n",
       "\t<tr><td>1980</td><td>Dave Cowens*   </td><td>C </td><td>31</td><td>BOS</td><td>66</td><td>55</td><td>2159</td><td>14.8</td><td>0.477</td><td>0.013</td><td>0.131</td><td> 6.6</td><td>20.7</td><td>13.8</td><td>13.4</td><td>1.5</td><td>1.6</td><td> 9.9</td></tr>\n",
       "\t<tr><td>1980</td><td>Eric Fernsten  </td><td>PF</td><td>26</td><td>BOS</td><td>56</td><td> 0</td><td> 431</td><td>14.4</td><td>0.497</td><td>0.000</td><td>0.340</td><td>10.5</td><td>14.3</td><td>12.4</td><td> 8.7</td><td>1.8</td><td>1.6</td><td>10.2</td></tr>\n",
       "</tbody>\n",
       "</table>\n"
      ],
      "text/latex": [
       "A tibble: 6 × 19\n",
       "\\begin{tabular}{lllllllllllllllllll}\n",
       " Year & Player & Pos & Age & Tm & G & GS & MP & PER & TS\\% & 3PAr & FTr & ORB\\% & DRB\\% & TRB\\% & AST\\% & STL\\% & BLK\\% & TOV\\%\\\\\n",
       " <dbl> & <chr> & <chr> & <dbl> & <chr> & <dbl> & <dbl> & <dbl> & <dbl> & <dbl> & <dbl> & <dbl> & <dbl> & <dbl> & <dbl> & <dbl> & <dbl> & <dbl> & <dbl>\\\\\n",
       "\\hline\n",
       "\t 1980 & Tiny Archibald* & PG & 31 & BOS & 80 & 80 & 2864 & 15.3 & 0.574 & 0.023 & 0.548 &  2.3 &  5.3 &  3.8 & 30.2 & 1.7 & 0.2 & 19.7\\\\\n",
       "\t 1980 & Larry Bird*     & PF & 23 & BOS & 82 & 82 & 2955 & 20.5 & 0.538 & 0.098 & 0.246 &  8.3 & 23.6 & 16.0 & 18.5 & 2.3 & 1.0 & 14.0\\\\\n",
       "\t 1980 & M.L. Carr       & SF & 29 & BOS & 82 &  7 & 1994 & 14.6 & 0.526 & 0.054 & 0.316 &  6.0 & 12.3 &  9.2 & 10.7 & 2.8 & 1.0 & 14.1\\\\\n",
       "\t 1980 & Don Chaney      & SG & 33 & BOS & 60 &  0 &  523 &  7.8 & 0.402 & 0.032 & 0.222 &  6.7 &  8.8 &  7.8 &  9.3 & 2.8 & 1.2 & 13.7\\\\\n",
       "\t 1980 & Dave Cowens*    & C  & 31 & BOS & 66 & 55 & 2159 & 14.8 & 0.477 & 0.013 & 0.131 &  6.6 & 20.7 & 13.8 & 13.4 & 1.5 & 1.6 &  9.9\\\\\n",
       "\t 1980 & Eric Fernsten   & PF & 26 & BOS & 56 &  0 &  431 & 14.4 & 0.497 & 0.000 & 0.340 & 10.5 & 14.3 & 12.4 &  8.7 & 1.8 & 1.6 & 10.2\\\\\n",
       "\\end{tabular}\n"
      ],
      "text/markdown": [
       "\n",
       "A tibble: 6 × 19\n",
       "\n",
       "| Year &lt;dbl&gt; | Player &lt;chr&gt; | Pos &lt;chr&gt; | Age &lt;dbl&gt; | Tm &lt;chr&gt; | G &lt;dbl&gt; | GS &lt;dbl&gt; | MP &lt;dbl&gt; | PER &lt;dbl&gt; | TS% &lt;dbl&gt; | 3PAr &lt;dbl&gt; | FTr &lt;dbl&gt; | ORB% &lt;dbl&gt; | DRB% &lt;dbl&gt; | TRB% &lt;dbl&gt; | AST% &lt;dbl&gt; | STL% &lt;dbl&gt; | BLK% &lt;dbl&gt; | TOV% &lt;dbl&gt; |\n",
       "|---|---|---|---|---|---|---|---|---|---|---|---|---|---|---|---|---|---|---|\n",
       "| 1980 | Tiny Archibald* | PG | 31 | BOS | 80 | 80 | 2864 | 15.3 | 0.574 | 0.023 | 0.548 |  2.3 |  5.3 |  3.8 | 30.2 | 1.7 | 0.2 | 19.7 |\n",
       "| 1980 | Larry Bird*     | PF | 23 | BOS | 82 | 82 | 2955 | 20.5 | 0.538 | 0.098 | 0.246 |  8.3 | 23.6 | 16.0 | 18.5 | 2.3 | 1.0 | 14.0 |\n",
       "| 1980 | M.L. Carr       | SF | 29 | BOS | 82 |  7 | 1994 | 14.6 | 0.526 | 0.054 | 0.316 |  6.0 | 12.3 |  9.2 | 10.7 | 2.8 | 1.0 | 14.1 |\n",
       "| 1980 | Don Chaney      | SG | 33 | BOS | 60 |  0 |  523 |  7.8 | 0.402 | 0.032 | 0.222 |  6.7 |  8.8 |  7.8 |  9.3 | 2.8 | 1.2 | 13.7 |\n",
       "| 1980 | Dave Cowens*    | C  | 31 | BOS | 66 | 55 | 2159 | 14.8 | 0.477 | 0.013 | 0.131 |  6.6 | 20.7 | 13.8 | 13.4 | 1.5 | 1.6 |  9.9 |\n",
       "| 1980 | Eric Fernsten   | PF | 26 | BOS | 56 |  0 |  431 | 14.4 | 0.497 | 0.000 | 0.340 | 10.5 | 14.3 | 12.4 |  8.7 | 1.8 | 1.6 | 10.2 |\n",
       "\n"
      ],
      "text/plain": [
       "  Year Player          Pos Age Tm  G  GS MP   PER  TS%   3PAr  FTr   ORB% DRB%\n",
       "1 1980 Tiny Archibald* PG  31  BOS 80 80 2864 15.3 0.574 0.023 0.548  2.3  5.3\n",
       "2 1980 Larry Bird*     PF  23  BOS 82 82 2955 20.5 0.538 0.098 0.246  8.3 23.6\n",
       "3 1980 M.L. Carr       SF  29  BOS 82  7 1994 14.6 0.526 0.054 0.316  6.0 12.3\n",
       "4 1980 Don Chaney      SG  33  BOS 60  0  523  7.8 0.402 0.032 0.222  6.7  8.8\n",
       "5 1980 Dave Cowens*    C   31  BOS 66 55 2159 14.8 0.477 0.013 0.131  6.6 20.7\n",
       "6 1980 Eric Fernsten   PF  26  BOS 56  0  431 14.4 0.497 0.000 0.340 10.5 14.3\n",
       "  TRB% AST% STL% BLK% TOV%\n",
       "1  3.8 30.2 1.7  0.2  19.7\n",
       "2 16.0 18.5 2.3  1.0  14.0\n",
       "3  9.2 10.7 2.8  1.0  14.1\n",
       "4  7.8  9.3 2.8  1.2  13.7\n",
       "5 13.8 13.4 1.5  1.6   9.9\n",
       "6 12.4  8.7 1.8  1.6  10.2"
      ]
     },
     "metadata": {},
     "output_type": "display_data"
    }
   ],
   "source": [
    "# 1\n",
    "\n",
    "# raw_season_data <- get_season_data(2000:2020)\n",
    "# head(raw_season_data)\n",
    "\n",
    "# PREVIOUS:\n",
    "#\n",
    "urlfile_1 <- \"https://raw.githubusercontent.com/cass12345/ddssccii/main/Seasons_Stats.csv\"\n",
    "raw_season_data <- read_csv(url(urlfile_1), show_col_types = FALSE)\n",
    "\n",
    "raw_season_data |> \n",
    "    select(2:20) |>   # Select the first 20 columns, after the id\n",
    "    drop_na() |>      # Drop rows with NA observatinos\n",
    "    head()            # Show just the first 5 rows"
   ]
  },
  {
   "cell_type": "code",
   "execution_count": 1,
   "id": "b3bec815-496d-4f2a-99b0-08c80e9736db",
   "metadata": {},
   "outputs": [
    {
     "ename": "ERROR",
     "evalue": "Error in as.ts(x): object 'raw_season_data' not found\n",
     "output_type": "error",
     "traceback": [
      "Error in as.ts(x): object 'raw_season_data' not found\nTraceback:\n",
      "1. filter(filter(filter(raw_season_data, MP != 0), Pos %in% c(\"PF\", \n .     \"PG\", \"SF\", \"SG\", \"C\")), Year >= 2000 & Year <= 2015)",
      "2. as.ts(x)",
      "3. filter(filter(raw_season_data, MP != 0), Pos %in% c(\"PF\", \"PG\", \n .     \"SF\", \"SG\", \"C\"))",
      "4. as.ts(x)",
      "5. filter(raw_season_data, MP != 0)",
      "6. as.ts(x)"
     ]
    }
   ],
   "source": [
    "# 2 \n",
    "\n",
    "filtered_data <- raw_season_data |>\n",
    "    filter(MP != 0) |>\n",
    "    filter(Pos %in% c(\"PF\",\"PG\",\"SF\",\"SG\",\"C\")) |>\n",
    "    filter(Year >= 2000 & Year <= 2015)\n",
    "\n",
    "selected_data <- filtered_data |>\n",
    "    select(Player, Pos, BLK, AST, TRB, STL, MP, \"3PA\", PF)\n",
    "\n",
    "renamed_data <- selected_data |>\n",
    "    rename(name = Player) |>\n",
    "    rename(three_PA = \"3PA\") |>\n",
    "    mutate(pos = as_factor(Pos), \n",
    "           .keep = \"unused\", \n",
    "           .after = 1)\n",
    "\n",
    "renamed_data |> head()"
   ]
  },
  {
   "cell_type": "code",
   "execution_count": 27,
   "id": "8c22f40d-d2ce-45be-836d-b0ec559e373b",
   "metadata": {
    "collapsed": true,
    "jupyter": {
     "outputs_hidden": true
    },
    "tags": []
   },
   "outputs": [
    {
     "ename": "ERROR",
     "evalue": "\u001b[1m\u001b[33mError\u001b[39m in `summarize()`:\u001b[22m\n\u001b[1m\u001b[22m\u001b[33m!\u001b[39m Problem while computing `..1 = across(...)`.\n\u001b[36mℹ\u001b[39m The error occurred in group 0: character(0), character(0).\n\u001b[1mCaused by error in `across()`:\u001b[22m\n\u001b[33m!\u001b[39m Can't subset columns that don't exist.\n\u001b[31m✖\u001b[39m Column `BLK` doesn't exist.\n",
     "output_type": "error",
     "traceback": [
      "\u001b[1m\u001b[33mError\u001b[39m in `summarize()`:\u001b[22m\n\u001b[1m\u001b[22m\u001b[33m!\u001b[39m Problem while computing `..1 = across(...)`.\n\u001b[36mℹ\u001b[39m The error occurred in group 0: character(0), character(0).\n\u001b[1mCaused by error in `across()`:\u001b[22m\n\u001b[33m!\u001b[39m Can't subset columns that don't exist.\n\u001b[31m✖\u001b[39m Column `BLK` doesn't exist.\nTraceback:\n",
      "1. mutate(summarize(group_by(season_data, name, pos), across(.cols = c(BLK, \n .     AST, TRB, STL, MP, three_PA, PF), .fns = list(sum = sum), \n .     .names = \"{.col}\"), .groups = \"keep\"), across(.cols = c(BLK, \n .     AST, TRB, STL, three_PA, PF), .fns = list(function(.) {\n .     return(./MP)\n . }), .names = \"{.col}_per_MP\"), .keep = \"unused\")",
      "2. summarize(group_by(season_data, name, pos), across(.cols = c(BLK, \n .     AST, TRB, STL, MP, three_PA, PF), .fns = list(sum = sum), \n .     .names = \"{.col}\"), .groups = \"keep\")",
      "3. summarise.grouped_df(group_by(season_data, name, pos), across(.cols = c(BLK, \n .     AST, TRB, STL, MP, three_PA, PF), .fns = list(sum = sum), \n .     .names = \"{.col}\"), .groups = \"keep\")",
      "4. summarise_cols(.data, dplyr_quosures(...), caller_env = caller_env())",
      "5. withCallingHandlers({\n .     for (i in seq_along(dots)) {\n .         context_poke(\"column\", old_current_column)\n .         quosures <- expand_across(dots[[i]])\n .         quosures_results <- map(quosures, summarise_eval_one, \n .             mask = mask)\n .         for (k in seq_along(quosures)) {\n .             quo <- quosures[[k]]\n .             quo_data <- attr(quo, \"dplyr:::data\")\n .             quo_result <- quosures_results[[k]]\n .             if (is.null(quo_result)) {\n .                 next\n .             }\n .             types_k <- quo_result$types\n .             chunks_k <- quo_result$chunks\n .             results_k <- quo_result$results\n .             if (!quo_data$is_named && is.data.frame(types_k)) {\n .                 chunks_extracted <- .Call(dplyr_extract_chunks, \n .                   chunks_k, types_k)\n .                 types_k_names <- names(types_k)\n .                 for (j in seq_along(chunks_extracted)) {\n .                   mask$add_one(name = types_k_names[j], chunks = chunks_extracted[[j]], \n .                     result = results_k[[j]])\n .                 }\n .                 chunks <- append(chunks, chunks_extracted)\n .                 types <- append(types, as.list(types_k))\n .                 results <- append(results, results_k)\n .                 out_names <- c(out_names, types_k_names)\n .             }\n .             else {\n .                 name <- quo_data$name_auto\n .                 mask$add_one(name = name, chunks = chunks_k, \n .                   result = results_k)\n .                 chunks <- append(chunks, list(chunks_k))\n .                 types <- append(types, list(types_k))\n .                 results <- append(results, list(results_k))\n .                 out_names <- c(out_names, name)\n .             }\n .         }\n .     }\n .     recycle_info <- .Call(dplyr_summarise_recycle_chunks, chunks, \n .         mask$get_rows(), types, results)\n .     chunks <- recycle_info$chunks\n .     sizes <- recycle_info$sizes\n .     results <- recycle_info$results\n .     for (i in seq_along(chunks)) {\n .         result <- results[[i]] %||% vec_c(!!!chunks[[i]], .ptype = types[[i]])\n .         cols[[out_names[i]]] <- result\n .     }\n . }, error = function(e) {\n .     what <- \"computing\"\n .     index <- i\n .     if (inherits(e, \"dplyr:::summarise_incompatible_size\")) {\n .         index <- e$dplyr_error_data$index\n .         what <- \"recycling\"\n .     }\n .     local_error_context(dots = dots, .index = index, mask = mask)\n .     bullets <- c(cnd_bullet_header(what), summarise_bullets(e))\n .     abort(bullets, call = error_call, parent = skip_internal_condition(e))\n . })",
      "6. expand_across(dots[[i]])",
      "7. across_setup(!!cols, fns = eval_tidy(expr$.fns, mask, env = env), \n .     names = eval_tidy(expr$.names, mask, env = env), .caller_env = dplyr_mask$get_caller_env(), \n .     inline = TRUE)",
      "8. fix_call(tidyselect::eval_select(cols, data = across_cols), call = call(across_if_fn))",
      "9. withCallingHandlers(expr, error = function(cnd) {\n .     cnd$call <- call\n .     cnd_signal(cnd)\n . })",
      "10. tidyselect::eval_select(cols, data = across_cols)",
      "11. eval_select_impl(data, names(data), as_quosure(expr, env), include = include, \n  .     exclude = exclude, strict = strict, name_spec = name_spec, \n  .     allow_rename = allow_rename, allow_empty = allow_empty, allow_predicates = allow_predicates, \n  .     error_call = error_call, )",
      "12. with_subscript_errors(out <- vars_select_eval(vars, expr, strict = strict, \n  .     data = x, name_spec = name_spec, uniquely_named = uniquely_named, \n  .     allow_rename = allow_rename, allow_empty = allow_empty, allow_predicates = allow_predicates, \n  .     type = type, error_call = error_call), type = type)",
      "13. try_fetch(expr, vctrs_error_subscript = function(cnd) {\n  .     cnd$subscript_action <- subscript_action(type)\n  .     cnd$subscript_elt <- \"column\"\n  .     cnd_signal(cnd)\n  . })",
      "14. withCallingHandlers(expr, vctrs_error_subscript = function(cnd) {\n  .     {\n  .         .__handler_frame__. <- TRUE\n  .         .__setup_frame__. <- frame\n  .     }\n  .     out <- handlers[[1L]](cnd)\n  .     if (!inherits(out, \"rlang_zap\")) \n  .         throw(out)\n  . })",
      "15. vars_select_eval(vars, expr, strict = strict, data = x, name_spec = name_spec, \n  .     uniquely_named = uniquely_named, allow_rename = allow_rename, \n  .     allow_empty = allow_empty, allow_predicates = allow_predicates, \n  .     type = type, error_call = error_call)",
      "16. walk_data_tree(expr, data_mask, context_mask)",
      "17. eval_c(expr, data_mask, context_mask)",
      "18. reduce_sels(node, data_mask, context_mask, init = init)",
      "19. walk_data_tree(new, data_mask, context_mask)",
      "20. as_indices_sel_impl(out, vars = vars, strict = strict, data = data, \n  .     allow_predicates = allow_predicates, call = error_call, arg = as_label(expr))",
      "21. as_indices_impl(x, vars, call = call, arg = arg, strict = strict)",
      "22. chr_as_locations(x, vars, call = call, arg = arg)",
      "23. vctrs::vec_as_location(x, n = length(vars), names = vars, call = call, \n  .     arg = arg)",
      "24. (function () \n  . stop_subscript_oob(i = i, subscript_type = subscript_type, names = names, \n  .     subscript_action = subscript_action, subscript_arg = subscript_arg, \n  .     call = call))()",
      "25. stop_subscript_oob(i = i, subscript_type = subscript_type, names = names, \n  .     subscript_action = subscript_action, subscript_arg = subscript_arg, \n  .     call = call)",
      "26. stop_subscript(class = \"vctrs_error_subscript_oob\", i = i, subscript_type = subscript_type, \n  .     ..., call = call)",
      "27. abort(class = c(class, \"vctrs_error_subscript\"), i = i, ..., \n  .     call = vctrs_error_call(call))",
      "28. signal_abort(cnd, .file)",
      "29. signalCondition(cnd)",
      "30. (function (cnd) \n  . {\n  .     {\n  .         .__handler_frame__. <- TRUE\n  .         .__setup_frame__. <- frame\n  .     }\n  .     out <- handlers[[1L]](cnd)\n  .     if (!inherits(out, \"rlang_zap\")) \n  .         throw(out)\n  . })(structure(list(message = \"\", trace = structure(list(call = list(\n  .     IRkernel::main(), kernel$run(), handle_shell(), executor$execute(msg), \n  .     tryCatch(evaluate(request$content$code, envir = .GlobalEnv, \n  .         output_handler = oh, stop_on_error = 1L), interrupt = function(cond) {\n  .         log_debug(\"Interrupt during execution\")\n  .         interrupted <<- TRUE\n  .     }, error = .self$handle_error), tryCatchList(expr, classes, \n  .         parentenv, handlers), tryCatchOne(tryCatchList(expr, \n  .         names[-nh], parentenv, handlers[-nh]), names[nh], parentenv, \n  .         handlers[[nh]]), doTryCatch(return(expr), name, parentenv, \n  .         handler), tryCatchList(expr, names[-nh], parentenv, handlers[-nh]), \n  .     tryCatchOne(expr, names, parentenv, handlers[[1L]]), doTryCatch(return(expr), \n  .         name, parentenv, handler), evaluate(request$content$code, \n  .         envir = .GlobalEnv, output_handler = oh, stop_on_error = 1L), \n  .     evaluate_call(expr, parsed$src[[i]], envir = envir, enclos = enclos, \n  .         debug = debug, last = i == length(out), use_try = stop_on_error != \n  .             2L, keep_warning = keep_warning, keep_message = keep_message, \n  .         output_handler = output_handler, include_timing = include_timing), \n  .     timing_fn(handle(ev <- withCallingHandlers(withVisible(eval_with_user_handlers(expr, \n  .         envir, enclos, user_handlers)), warning = wHandler, error = eHandler, \n  .         message = mHandler))), handle(ev <- withCallingHandlers(withVisible(eval_with_user_handlers(expr, \n  .         envir, enclos, user_handlers)), warning = wHandler, error = eHandler, \n  .         message = mHandler)), try(f, silent = TRUE), tryCatch(expr, \n  .         error = function(e) {\n  .             call <- conditionCall(e)\n  .             if (!is.null(call)) {\n  .                 if (identical(call[[1L]], quote(doTryCatch))) \n  .                   call <- sys.call(-4L)\n  .                 dcall <- deparse(call, nlines = 1L)\n  .                 prefix <- paste(\"Error in\", dcall, \": \")\n  .                 LONG <- 75L\n  .                 sm <- strsplit(conditionMessage(e), \"\\n\")[[1L]]\n  .                 w <- 14L + nchar(dcall, type = \"w\") + nchar(sm[1L], \n  .                   type = \"w\")\n  .                 if (is.na(w)) \n  .                   w <- 14L + nchar(dcall, type = \"b\") + nchar(sm[1L], \n  .                     type = \"b\")\n  .                 if (w > LONG) \n  .                   prefix <- paste0(prefix, \"\\n  \")\n  .             }\n  .             else prefix <- \"Error : \"\n  .             msg <- paste0(prefix, conditionMessage(e), \"\\n\")\n  .             .Internal(seterrmessage(msg[1L]))\n  .             if (!silent && isTRUE(getOption(\"show.error.messages\"))) {\n  .                 cat(msg, file = outFile)\n  .                 .Internal(printDeferredWarnings())\n  .             }\n  .             invisible(structure(msg, class = \"try-error\", condition = e))\n  .         }), tryCatchList(expr, classes, parentenv, handlers), \n  .     tryCatchOne(expr, names, parentenv, handlers[[1L]]), doTryCatch(return(expr), \n  .         name, parentenv, handler), withCallingHandlers(withVisible(eval_with_user_handlers(expr, \n  .         envir, enclos, user_handlers)), warning = wHandler, error = eHandler, \n  .         message = mHandler), withVisible(eval_with_user_handlers(expr, \n  .         envir, enclos, user_handlers)), eval_with_user_handlers(expr, \n  .         envir, enclos, user_handlers), eval(expr, envir, enclos), \n  .     eval(expr, envir, enclos), mutate(summarize(group_by(season_data, \n  .         name, pos), across(.cols = c(BLK, AST, TRB, STL, MP, \n  .         three_PA, PF), .fns = list(sum = sum), .names = \"{.col}\"), \n  .         .groups = \"keep\"), across(.cols = c(BLK, AST, TRB, STL, \n  .         three_PA, PF), .fns = list(function(.) {\n  .         return(./MP)\n  .     }), .names = \"{.col}_per_MP\"), .keep = \"unused\"), summarize(group_by(season_data, \n  .         name, pos), across(.cols = c(BLK, AST, TRB, STL, MP, \n  .         three_PA, PF), .fns = list(sum = sum), .names = \"{.col}\"), \n  .         .groups = \"keep\"), summarise.grouped_df(group_by(season_data, \n  .         name, pos), across(.cols = c(BLK, AST, TRB, STL, MP, \n  .         three_PA, PF), .fns = list(sum = sum), .names = \"{.col}\"), \n  .         .groups = \"keep\"), summarise_cols(.data, dplyr_quosures(...), \n  .         caller_env = caller_env()), withCallingHandlers({\n  .         for (i in seq_along(dots)) {\n  .             context_poke(\"column\", old_current_column)\n  .             quosures <- expand_across(dots[[i]])\n  .             quosures_results <- map(quosures, summarise_eval_one, \n  .                 mask = mask)\n  .             for (k in seq_along(quosures)) {\n  .                 quo <- quosures[[k]]\n  .                 quo_data <- attr(quo, \"dplyr:::data\")\n  .                 quo_result <- quosures_results[[k]]\n  .                 if (is.null(quo_result)) {\n  .                   next\n  .                 }\n  .                 types_k <- quo_result$types\n  .                 chunks_k <- quo_result$chunks\n  .                 results_k <- quo_result$results\n  .                 if (!quo_data$is_named && is.data.frame(types_k)) {\n  .                   chunks_extracted <- .Call(dplyr_extract_chunks, \n  .                     chunks_k, types_k)\n  .                   types_k_names <- names(types_k)\n  .                   for (j in seq_along(chunks_extracted)) {\n  .                     mask$add_one(name = types_k_names[j], chunks = chunks_extracted[[j]], \n  .                       result = results_k[[j]])\n  .                   }\n  .                   chunks <- append(chunks, chunks_extracted)\n  .                   types <- append(types, as.list(types_k))\n  .                   results <- append(results, results_k)\n  .                   out_names <- c(out_names, types_k_names)\n  .                 }\n  .                 else {\n  .                   name <- quo_data$name_auto\n  .                   mask$add_one(name = name, chunks = chunks_k, \n  .                     result = results_k)\n  .                   chunks <- append(chunks, list(chunks_k))\n  .                   types <- append(types, list(types_k))\n  .                   results <- append(results, list(results_k))\n  .                   out_names <- c(out_names, name)\n  .                 }\n  .             }\n  .         }\n  .         recycle_info <- .Call(dplyr_summarise_recycle_chunks, \n  .             chunks, mask$get_rows(), types, results)\n  .         chunks <- recycle_info$chunks\n  .         sizes <- recycle_info$sizes\n  .         results <- recycle_info$results\n  .         for (i in seq_along(chunks)) {\n  .             result <- results[[i]] %||% vec_c(!!!chunks[[i]], \n  .                 .ptype = types[[i]])\n  .             cols[[out_names[i]]] <- result\n  .         }\n  .     }, error = function(e) {\n  .         what <- \"computing\"\n  .         index <- i\n  .         if (inherits(e, \"dplyr:::summarise_incompatible_size\")) {\n  .             index <- e$dplyr_error_data$index\n  .             what <- \"recycling\"\n  .         }\n  .         local_error_context(dots = dots, .index = index, mask = mask)\n  .         bullets <- c(cnd_bullet_header(what), summarise_bullets(e))\n  .         abort(bullets, call = error_call, parent = skip_internal_condition(e))\n  .     }), expand_across(dots[[i]]), across_setup(!!cols, fns = eval_tidy(expr$.fns, \n  .         mask, env = env), names = eval_tidy(expr$.names, mask, \n  .         env = env), .caller_env = dplyr_mask$get_caller_env(), \n  .         inline = TRUE), fix_call(tidyselect::eval_select(cols, \n  .         data = across_cols), call = call(across_if_fn)), withCallingHandlers(expr, \n  .         error = function(cnd) {\n  .             cnd$call <- call\n  .             cnd_signal(cnd)\n  .         }), tidyselect::eval_select(cols, data = across_cols), \n  .     eval_select_impl(data, names(data), as_quosure(expr, env), \n  .         include = include, exclude = exclude, strict = strict, \n  .         name_spec = name_spec, allow_rename = allow_rename, allow_empty = allow_empty, \n  .         allow_predicates = allow_predicates, error_call = error_call, \n  .         ), with_subscript_errors(out <- vars_select_eval(vars, \n  .         expr, strict = strict, data = x, name_spec = name_spec, \n  .         uniquely_named = uniquely_named, allow_rename = allow_rename, \n  .         allow_empty = allow_empty, allow_predicates = allow_predicates, \n  .         type = type, error_call = error_call), type = type), \n  .     try_fetch(expr, vctrs_error_subscript = function(cnd) {\n  .         cnd$subscript_action <- subscript_action(type)\n  .         cnd$subscript_elt <- \"column\"\n  .         cnd_signal(cnd)\n  .     }), withCallingHandlers(expr, vctrs_error_subscript = function(cnd) {\n  .         {\n  .             .__handler_frame__. <- TRUE\n  .             .__setup_frame__. <- frame\n  .         }\n  .         out <- handlers[[1L]](cnd)\n  .         if (!inherits(out, \"rlang_zap\")) \n  .             throw(out)\n  .     }), vars_select_eval(vars, expr, strict = strict, data = x, \n  .         name_spec = name_spec, uniquely_named = uniquely_named, \n  .         allow_rename = allow_rename, allow_empty = allow_empty, \n  .         allow_predicates = allow_predicates, type = type, error_call = error_call), \n  .     walk_data_tree(expr, data_mask, context_mask), eval_c(expr, \n  .         data_mask, context_mask), reduce_sels(node, data_mask, \n  .         context_mask, init = init), walk_data_tree(new, data_mask, \n  .         context_mask), as_indices_sel_impl(out, vars = vars, \n  .         strict = strict, data = data, allow_predicates = allow_predicates, \n  .         call = error_call, arg = as_label(expr)), as_indices_impl(x, \n  .         vars, call = call, arg = arg, strict = strict), chr_as_locations(x, \n  .         vars, call = call, arg = arg), vctrs::vec_as_location(x, \n  .         n = length(vars), names = vars, call = call, arg = arg), \n  .     `<fn>`(), stop_subscript_oob(i = i, subscript_type = subscript_type, \n  .         names = names, subscript_action = subscript_action, subscript_arg = subscript_arg, \n  .         call = call), stop_subscript(class = \"vctrs_error_subscript_oob\", \n  .         i = i, subscript_type = subscript_type, ..., call = call), \n  .     abort(class = c(class, \"vctrs_error_subscript\"), i = i, ..., \n  .         call = vctrs_error_call(call))), parent = c(0L, 1L, 2L, \n  . 3L, 4L, 5L, 6L, 7L, 6L, 9L, 10L, 4L, 12L, 13L, 13L, 15L, 16L, \n  . 17L, 18L, 19L, 13L, 13L, 13L, 23L, 24L, 0L, 0L, 0L, 28L, 29L, \n  . 29L, 31L, 32L, 33L, 32L, 35L, 36L, 37L, 38L, 36L, 40L, 41L, 42L, \n  . 43L, 44L, 45L, 46L, 47L, 0L, 49L, 50L, 51L), visible = c(TRUE, \n  . TRUE, TRUE, TRUE, TRUE, TRUE, TRUE, TRUE, TRUE, TRUE, TRUE, TRUE, \n  . TRUE, TRUE, TRUE, TRUE, TRUE, TRUE, TRUE, TRUE, TRUE, TRUE, TRUE, \n  . TRUE, TRUE, TRUE, TRUE, TRUE, TRUE, TRUE, TRUE, TRUE, FALSE, \n  . FALSE, FALSE, FALSE, FALSE, FALSE, FALSE, FALSE, FALSE, FALSE, \n  . FALSE, FALSE, FALSE, FALSE, FALSE, FALSE, FALSE, FALSE, FALSE, \n  . FALSE), namespace = c(\"IRkernel\", NA, \"IRkernel\", NA, \"base\", \n  . \"base\", \"base\", \"base\", \"base\", \"base\", \"base\", \"evaluate\", \"evaluate\", \n  . \"evaluate\", \"evaluate\", \"base\", \"base\", \"base\", \"base\", \"base\", \n  . \"base\", \"base\", \"evaluate\", \"base\", \"base\", \"dplyr\", \"dplyr\", \n  . \"dplyr\", \"dplyr\", \"base\", \"dplyr\", \"dplyr\", \"dplyr\", \"base\", \n  . \"tidyselect\", \"tidyselect\", \"tidyselect\", \"rlang\", \"base\", \"tidyselect\", \n  . \"tidyselect\", \"tidyselect\", \"tidyselect\", \"tidyselect\", \"tidyselect\", \n  . \"tidyselect\", \"tidyselect\", \"vctrs\", \"vctrs\", \"vctrs\", \"vctrs\", \n  . \"rlang\"), scope = c(\"::\", NA, \"local\", NA, \"::\", \"local\", \"local\", \n  . \"local\", \"local\", \"local\", \"local\", \"::\", \":::\", \"local\", \"local\", \n  . \"::\", \"::\", \"local\", \"local\", \"local\", \"::\", \"::\", \":::\", \"::\", \n  . \"::\", \"::\", \"::\", \":::\", \":::\", \"::\", \":::\", \":::\", \":::\", \"::\", \n  . \"::\", \":::\", \":::\", \"::\", \"::\", \":::\", \":::\", \":::\", \":::\", \":::\", \n  . \":::\", \":::\", \":::\", \"::\", \"local\", \":::\", \":::\", \"::\"), error_frame = c(FALSE, \n  . FALSE, FALSE, FALSE, FALSE, FALSE, FALSE, FALSE, FALSE, FALSE, \n  . FALSE, FALSE, FALSE, FALSE, FALSE, FALSE, FALSE, FALSE, FALSE, \n  . FALSE, FALSE, FALSE, FALSE, FALSE, FALSE, FALSE, FALSE, FALSE, \n  . FALSE, FALSE, FALSE, TRUE, FALSE, FALSE, FALSE, FALSE, FALSE, \n  . FALSE, FALSE, FALSE, FALSE, FALSE, FALSE, FALSE, FALSE, FALSE, \n  . FALSE, FALSE, FALSE, FALSE, FALSE, FALSE)), row.names = c(NA, \n  . -52L), version = 2L, class = c(\"rlang_trace\", \"rlib_trace\", \"tbl\", \n  . \"data.frame\")), parent = NULL, i = \"BLK\", subscript_type = \"character\", \n  .     names = c(\"BLK_per_MP\", \"AST_per_MP\", \"TRB_per_MP\", \"STL_per_MP\", \n  .     \"three_PA_per_MP\", \"PF_per_MP\"), subscript_action = NULL, \n  .     subscript_arg = \"BLK\", call = across_setup(!!cols, fns = eval_tidy(expr$.fns, \n  .         mask, env = env), names = eval_tidy(expr$.names, mask, \n  .         env = env), .caller_env = dplyr_mask$get_caller_env(), \n  .         inline = TRUE)), class = c(\"vctrs_error_subscript_oob\", \n  . \"vctrs_error_subscript\", \"rlang_error\", \"error\", \"condition\")))",
      "31. handlers[[1L]](cnd)",
      "32. cnd_signal(cnd)",
      "33. signal_abort(cnd)",
      "34. signalCondition(cnd)",
      "35. (function (cnd) \n  . {\n  .     cnd$call <- call\n  .     cnd_signal(cnd)\n  . })(structure(list(message = \"\", trace = structure(list(call = list(\n  .     IRkernel::main(), kernel$run(), handle_shell(), executor$execute(msg), \n  .     tryCatch(evaluate(request$content$code, envir = .GlobalEnv, \n  .         output_handler = oh, stop_on_error = 1L), interrupt = function(cond) {\n  .         log_debug(\"Interrupt during execution\")\n  .         interrupted <<- TRUE\n  .     }, error = .self$handle_error), tryCatchList(expr, classes, \n  .         parentenv, handlers), tryCatchOne(tryCatchList(expr, \n  .         names[-nh], parentenv, handlers[-nh]), names[nh], parentenv, \n  .         handlers[[nh]]), doTryCatch(return(expr), name, parentenv, \n  .         handler), tryCatchList(expr, names[-nh], parentenv, handlers[-nh]), \n  .     tryCatchOne(expr, names, parentenv, handlers[[1L]]), doTryCatch(return(expr), \n  .         name, parentenv, handler), evaluate(request$content$code, \n  .         envir = .GlobalEnv, output_handler = oh, stop_on_error = 1L), \n  .     evaluate_call(expr, parsed$src[[i]], envir = envir, enclos = enclos, \n  .         debug = debug, last = i == length(out), use_try = stop_on_error != \n  .             2L, keep_warning = keep_warning, keep_message = keep_message, \n  .         output_handler = output_handler, include_timing = include_timing), \n  .     timing_fn(handle(ev <- withCallingHandlers(withVisible(eval_with_user_handlers(expr, \n  .         envir, enclos, user_handlers)), warning = wHandler, error = eHandler, \n  .         message = mHandler))), handle(ev <- withCallingHandlers(withVisible(eval_with_user_handlers(expr, \n  .         envir, enclos, user_handlers)), warning = wHandler, error = eHandler, \n  .         message = mHandler)), try(f, silent = TRUE), tryCatch(expr, \n  .         error = function(e) {\n  .             call <- conditionCall(e)\n  .             if (!is.null(call)) {\n  .                 if (identical(call[[1L]], quote(doTryCatch))) \n  .                   call <- sys.call(-4L)\n  .                 dcall <- deparse(call, nlines = 1L)\n  .                 prefix <- paste(\"Error in\", dcall, \": \")\n  .                 LONG <- 75L\n  .                 sm <- strsplit(conditionMessage(e), \"\\n\")[[1L]]\n  .                 w <- 14L + nchar(dcall, type = \"w\") + nchar(sm[1L], \n  .                   type = \"w\")\n  .                 if (is.na(w)) \n  .                   w <- 14L + nchar(dcall, type = \"b\") + nchar(sm[1L], \n  .                     type = \"b\")\n  .                 if (w > LONG) \n  .                   prefix <- paste0(prefix, \"\\n  \")\n  .             }\n  .             else prefix <- \"Error : \"\n  .             msg <- paste0(prefix, conditionMessage(e), \"\\n\")\n  .             .Internal(seterrmessage(msg[1L]))\n  .             if (!silent && isTRUE(getOption(\"show.error.messages\"))) {\n  .                 cat(msg, file = outFile)\n  .                 .Internal(printDeferredWarnings())\n  .             }\n  .             invisible(structure(msg, class = \"try-error\", condition = e))\n  .         }), tryCatchList(expr, classes, parentenv, handlers), \n  .     tryCatchOne(expr, names, parentenv, handlers[[1L]]), doTryCatch(return(expr), \n  .         name, parentenv, handler), withCallingHandlers(withVisible(eval_with_user_handlers(expr, \n  .         envir, enclos, user_handlers)), warning = wHandler, error = eHandler, \n  .         message = mHandler), withVisible(eval_with_user_handlers(expr, \n  .         envir, enclos, user_handlers)), eval_with_user_handlers(expr, \n  .         envir, enclos, user_handlers), eval(expr, envir, enclos), \n  .     eval(expr, envir, enclos), mutate(summarize(group_by(season_data, \n  .         name, pos), across(.cols = c(BLK, AST, TRB, STL, MP, \n  .         three_PA, PF), .fns = list(sum = sum), .names = \"{.col}\"), \n  .         .groups = \"keep\"), across(.cols = c(BLK, AST, TRB, STL, \n  .         three_PA, PF), .fns = list(function(.) {\n  .         return(./MP)\n  .     }), .names = \"{.col}_per_MP\"), .keep = \"unused\"), summarize(group_by(season_data, \n  .         name, pos), across(.cols = c(BLK, AST, TRB, STL, MP, \n  .         three_PA, PF), .fns = list(sum = sum), .names = \"{.col}\"), \n  .         .groups = \"keep\"), summarise.grouped_df(group_by(season_data, \n  .         name, pos), across(.cols = c(BLK, AST, TRB, STL, MP, \n  .         three_PA, PF), .fns = list(sum = sum), .names = \"{.col}\"), \n  .         .groups = \"keep\"), summarise_cols(.data, dplyr_quosures(...), \n  .         caller_env = caller_env()), withCallingHandlers({\n  .         for (i in seq_along(dots)) {\n  .             context_poke(\"column\", old_current_column)\n  .             quosures <- expand_across(dots[[i]])\n  .             quosures_results <- map(quosures, summarise_eval_one, \n  .                 mask = mask)\n  .             for (k in seq_along(quosures)) {\n  .                 quo <- quosures[[k]]\n  .                 quo_data <- attr(quo, \"dplyr:::data\")\n  .                 quo_result <- quosures_results[[k]]\n  .                 if (is.null(quo_result)) {\n  .                   next\n  .                 }\n  .                 types_k <- quo_result$types\n  .                 chunks_k <- quo_result$chunks\n  .                 results_k <- quo_result$results\n  .                 if (!quo_data$is_named && is.data.frame(types_k)) {\n  .                   chunks_extracted <- .Call(dplyr_extract_chunks, \n  .                     chunks_k, types_k)\n  .                   types_k_names <- names(types_k)\n  .                   for (j in seq_along(chunks_extracted)) {\n  .                     mask$add_one(name = types_k_names[j], chunks = chunks_extracted[[j]], \n  .                       result = results_k[[j]])\n  .                   }\n  .                   chunks <- append(chunks, chunks_extracted)\n  .                   types <- append(types, as.list(types_k))\n  .                   results <- append(results, results_k)\n  .                   out_names <- c(out_names, types_k_names)\n  .                 }\n  .                 else {\n  .                   name <- quo_data$name_auto\n  .                   mask$add_one(name = name, chunks = chunks_k, \n  .                     result = results_k)\n  .                   chunks <- append(chunks, list(chunks_k))\n  .                   types <- append(types, list(types_k))\n  .                   results <- append(results, list(results_k))\n  .                   out_names <- c(out_names, name)\n  .                 }\n  .             }\n  .         }\n  .         recycle_info <- .Call(dplyr_summarise_recycle_chunks, \n  .             chunks, mask$get_rows(), types, results)\n  .         chunks <- recycle_info$chunks\n  .         sizes <- recycle_info$sizes\n  .         results <- recycle_info$results\n  .         for (i in seq_along(chunks)) {\n  .             result <- results[[i]] %||% vec_c(!!!chunks[[i]], \n  .                 .ptype = types[[i]])\n  .             cols[[out_names[i]]] <- result\n  .         }\n  .     }, error = function(e) {\n  .         what <- \"computing\"\n  .         index <- i\n  .         if (inherits(e, \"dplyr:::summarise_incompatible_size\")) {\n  .             index <- e$dplyr_error_data$index\n  .             what <- \"recycling\"\n  .         }\n  .         local_error_context(dots = dots, .index = index, mask = mask)\n  .         bullets <- c(cnd_bullet_header(what), summarise_bullets(e))\n  .         abort(bullets, call = error_call, parent = skip_internal_condition(e))\n  .     }), expand_across(dots[[i]]), across_setup(!!cols, fns = eval_tidy(expr$.fns, \n  .         mask, env = env), names = eval_tidy(expr$.names, mask, \n  .         env = env), .caller_env = dplyr_mask$get_caller_env(), \n  .         inline = TRUE), fix_call(tidyselect::eval_select(cols, \n  .         data = across_cols), call = call(across_if_fn)), withCallingHandlers(expr, \n  .         error = function(cnd) {\n  .             cnd$call <- call\n  .             cnd_signal(cnd)\n  .         }), tidyselect::eval_select(cols, data = across_cols), \n  .     eval_select_impl(data, names(data), as_quosure(expr, env), \n  .         include = include, exclude = exclude, strict = strict, \n  .         name_spec = name_spec, allow_rename = allow_rename, allow_empty = allow_empty, \n  .         allow_predicates = allow_predicates, error_call = error_call, \n  .         ), with_subscript_errors(out <- vars_select_eval(vars, \n  .         expr, strict = strict, data = x, name_spec = name_spec, \n  .         uniquely_named = uniquely_named, allow_rename = allow_rename, \n  .         allow_empty = allow_empty, allow_predicates = allow_predicates, \n  .         type = type, error_call = error_call), type = type), \n  .     try_fetch(expr, vctrs_error_subscript = function(cnd) {\n  .         cnd$subscript_action <- subscript_action(type)\n  .         cnd$subscript_elt <- \"column\"\n  .         cnd_signal(cnd)\n  .     }), withCallingHandlers(expr, vctrs_error_subscript = function(cnd) {\n  .         {\n  .             .__handler_frame__. <- TRUE\n  .             .__setup_frame__. <- frame\n  .         }\n  .         out <- handlers[[1L]](cnd)\n  .         if (!inherits(out, \"rlang_zap\")) \n  .             throw(out)\n  .     }), vars_select_eval(vars, expr, strict = strict, data = x, \n  .         name_spec = name_spec, uniquely_named = uniquely_named, \n  .         allow_rename = allow_rename, allow_empty = allow_empty, \n  .         allow_predicates = allow_predicates, type = type, error_call = error_call), \n  .     walk_data_tree(expr, data_mask, context_mask), eval_c(expr, \n  .         data_mask, context_mask), reduce_sels(node, data_mask, \n  .         context_mask, init = init), walk_data_tree(new, data_mask, \n  .         context_mask), as_indices_sel_impl(out, vars = vars, \n  .         strict = strict, data = data, allow_predicates = allow_predicates, \n  .         call = error_call, arg = as_label(expr)), as_indices_impl(x, \n  .         vars, call = call, arg = arg, strict = strict), chr_as_locations(x, \n  .         vars, call = call, arg = arg), vctrs::vec_as_location(x, \n  .         n = length(vars), names = vars, call = call, arg = arg), \n  .     `<fn>`(), stop_subscript_oob(i = i, subscript_type = subscript_type, \n  .         names = names, subscript_action = subscript_action, subscript_arg = subscript_arg, \n  .         call = call), stop_subscript(class = \"vctrs_error_subscript_oob\", \n  .         i = i, subscript_type = subscript_type, ..., call = call), \n  .     abort(class = c(class, \"vctrs_error_subscript\"), i = i, ..., \n  .         call = vctrs_error_call(call))), parent = c(0L, 1L, 2L, \n  . 3L, 4L, 5L, 6L, 7L, 6L, 9L, 10L, 4L, 12L, 13L, 13L, 15L, 16L, \n  . 17L, 18L, 19L, 13L, 13L, 13L, 23L, 24L, 0L, 0L, 0L, 28L, 29L, \n  . 29L, 31L, 32L, 33L, 32L, 35L, 36L, 37L, 38L, 36L, 40L, 41L, 42L, \n  . 43L, 44L, 45L, 46L, 47L, 0L, 49L, 50L, 51L), visible = c(TRUE, \n  . TRUE, TRUE, TRUE, TRUE, TRUE, TRUE, TRUE, TRUE, TRUE, TRUE, TRUE, \n  . TRUE, TRUE, TRUE, TRUE, TRUE, TRUE, TRUE, TRUE, TRUE, TRUE, TRUE, \n  . TRUE, TRUE, TRUE, TRUE, TRUE, TRUE, TRUE, TRUE, TRUE, FALSE, \n  . FALSE, FALSE, FALSE, FALSE, FALSE, FALSE, FALSE, FALSE, FALSE, \n  . FALSE, FALSE, FALSE, FALSE, FALSE, FALSE, FALSE, FALSE, FALSE, \n  . FALSE), namespace = c(\"IRkernel\", NA, \"IRkernel\", NA, \"base\", \n  . \"base\", \"base\", \"base\", \"base\", \"base\", \"base\", \"evaluate\", \"evaluate\", \n  . \"evaluate\", \"evaluate\", \"base\", \"base\", \"base\", \"base\", \"base\", \n  . \"base\", \"base\", \"evaluate\", \"base\", \"base\", \"dplyr\", \"dplyr\", \n  . \"dplyr\", \"dplyr\", \"base\", \"dplyr\", \"dplyr\", \"dplyr\", \"base\", \n  . \"tidyselect\", \"tidyselect\", \"tidyselect\", \"rlang\", \"base\", \"tidyselect\", \n  . \"tidyselect\", \"tidyselect\", \"tidyselect\", \"tidyselect\", \"tidyselect\", \n  . \"tidyselect\", \"tidyselect\", \"vctrs\", \"vctrs\", \"vctrs\", \"vctrs\", \n  . \"rlang\"), scope = c(\"::\", NA, \"local\", NA, \"::\", \"local\", \"local\", \n  . \"local\", \"local\", \"local\", \"local\", \"::\", \":::\", \"local\", \"local\", \n  . \"::\", \"::\", \"local\", \"local\", \"local\", \"::\", \"::\", \":::\", \"::\", \n  . \"::\", \"::\", \"::\", \":::\", \":::\", \"::\", \":::\", \":::\", \":::\", \"::\", \n  . \"::\", \":::\", \":::\", \"::\", \"::\", \":::\", \":::\", \":::\", \":::\", \":::\", \n  . \":::\", \":::\", \":::\", \"::\", \"local\", \":::\", \":::\", \"::\"), error_frame = c(FALSE, \n  . FALSE, FALSE, FALSE, FALSE, FALSE, FALSE, FALSE, FALSE, FALSE, \n  . FALSE, FALSE, FALSE, FALSE, FALSE, FALSE, FALSE, FALSE, FALSE, \n  . FALSE, FALSE, FALSE, FALSE, FALSE, FALSE, FALSE, FALSE, FALSE, \n  . FALSE, FALSE, FALSE, TRUE, FALSE, FALSE, FALSE, FALSE, FALSE, \n  . FALSE, FALSE, FALSE, FALSE, FALSE, FALSE, FALSE, FALSE, FALSE, \n  . FALSE, FALSE, FALSE, FALSE, FALSE, FALSE)), row.names = c(NA, \n  . -52L), version = 2L, class = c(\"rlang_trace\", \"rlib_trace\", \"tbl\", \n  . \"data.frame\")), parent = NULL, i = \"BLK\", subscript_type = \"character\", \n  .     names = c(\"BLK_per_MP\", \"AST_per_MP\", \"TRB_per_MP\", \"STL_per_MP\", \n  .     \"three_PA_per_MP\", \"PF_per_MP\"), subscript_action = \"subset\", \n  .     subscript_arg = \"BLK\", call = across_setup(!!cols, fns = eval_tidy(expr$.fns, \n  .         mask, env = env), names = eval_tidy(expr$.names, mask, \n  .         env = env), .caller_env = dplyr_mask$get_caller_env(), \n  .         inline = TRUE), subscript_elt = \"column\"), class = c(\"vctrs_error_subscript_oob\", \n  . \"vctrs_error_subscript\", \"rlang_error\", \"error\", \"condition\")))",
      "36. cnd_signal(cnd)",
      "37. signal_abort(cnd)",
      "38. signalCondition(cnd)",
      "39. (function (e) \n  . {\n  .     what <- \"computing\"\n  .     index <- i\n  .     if (inherits(e, \"dplyr:::summarise_incompatible_size\")) {\n  .         index <- e$dplyr_error_data$index\n  .         what <- \"recycling\"\n  .     }\n  .     local_error_context(dots = dots, .index = index, mask = mask)\n  .     bullets <- c(cnd_bullet_header(what), summarise_bullets(e))\n  .     abort(bullets, call = error_call, parent = skip_internal_condition(e))\n  . })(structure(list(message = \"\", trace = structure(list(call = list(\n  .     IRkernel::main(), kernel$run(), handle_shell(), executor$execute(msg), \n  .     tryCatch(evaluate(request$content$code, envir = .GlobalEnv, \n  .         output_handler = oh, stop_on_error = 1L), interrupt = function(cond) {\n  .         log_debug(\"Interrupt during execution\")\n  .         interrupted <<- TRUE\n  .     }, error = .self$handle_error), tryCatchList(expr, classes, \n  .         parentenv, handlers), tryCatchOne(tryCatchList(expr, \n  .         names[-nh], parentenv, handlers[-nh]), names[nh], parentenv, \n  .         handlers[[nh]]), doTryCatch(return(expr), name, parentenv, \n  .         handler), tryCatchList(expr, names[-nh], parentenv, handlers[-nh]), \n  .     tryCatchOne(expr, names, parentenv, handlers[[1L]]), doTryCatch(return(expr), \n  .         name, parentenv, handler), evaluate(request$content$code, \n  .         envir = .GlobalEnv, output_handler = oh, stop_on_error = 1L), \n  .     evaluate_call(expr, parsed$src[[i]], envir = envir, enclos = enclos, \n  .         debug = debug, last = i == length(out), use_try = stop_on_error != \n  .             2L, keep_warning = keep_warning, keep_message = keep_message, \n  .         output_handler = output_handler, include_timing = include_timing), \n  .     timing_fn(handle(ev <- withCallingHandlers(withVisible(eval_with_user_handlers(expr, \n  .         envir, enclos, user_handlers)), warning = wHandler, error = eHandler, \n  .         message = mHandler))), handle(ev <- withCallingHandlers(withVisible(eval_with_user_handlers(expr, \n  .         envir, enclos, user_handlers)), warning = wHandler, error = eHandler, \n  .         message = mHandler)), try(f, silent = TRUE), tryCatch(expr, \n  .         error = function(e) {\n  .             call <- conditionCall(e)\n  .             if (!is.null(call)) {\n  .                 if (identical(call[[1L]], quote(doTryCatch))) \n  .                   call <- sys.call(-4L)\n  .                 dcall <- deparse(call, nlines = 1L)\n  .                 prefix <- paste(\"Error in\", dcall, \": \")\n  .                 LONG <- 75L\n  .                 sm <- strsplit(conditionMessage(e), \"\\n\")[[1L]]\n  .                 w <- 14L + nchar(dcall, type = \"w\") + nchar(sm[1L], \n  .                   type = \"w\")\n  .                 if (is.na(w)) \n  .                   w <- 14L + nchar(dcall, type = \"b\") + nchar(sm[1L], \n  .                     type = \"b\")\n  .                 if (w > LONG) \n  .                   prefix <- paste0(prefix, \"\\n  \")\n  .             }\n  .             else prefix <- \"Error : \"\n  .             msg <- paste0(prefix, conditionMessage(e), \"\\n\")\n  .             .Internal(seterrmessage(msg[1L]))\n  .             if (!silent && isTRUE(getOption(\"show.error.messages\"))) {\n  .                 cat(msg, file = outFile)\n  .                 .Internal(printDeferredWarnings())\n  .             }\n  .             invisible(structure(msg, class = \"try-error\", condition = e))\n  .         }), tryCatchList(expr, classes, parentenv, handlers), \n  .     tryCatchOne(expr, names, parentenv, handlers[[1L]]), doTryCatch(return(expr), \n  .         name, parentenv, handler), withCallingHandlers(withVisible(eval_with_user_handlers(expr, \n  .         envir, enclos, user_handlers)), warning = wHandler, error = eHandler, \n  .         message = mHandler), withVisible(eval_with_user_handlers(expr, \n  .         envir, enclos, user_handlers)), eval_with_user_handlers(expr, \n  .         envir, enclos, user_handlers), eval(expr, envir, enclos), \n  .     eval(expr, envir, enclos), mutate(summarize(group_by(season_data, \n  .         name, pos), across(.cols = c(BLK, AST, TRB, STL, MP, \n  .         three_PA, PF), .fns = list(sum = sum), .names = \"{.col}\"), \n  .         .groups = \"keep\"), across(.cols = c(BLK, AST, TRB, STL, \n  .         three_PA, PF), .fns = list(function(.) {\n  .         return(./MP)\n  .     }), .names = \"{.col}_per_MP\"), .keep = \"unused\"), summarize(group_by(season_data, \n  .         name, pos), across(.cols = c(BLK, AST, TRB, STL, MP, \n  .         three_PA, PF), .fns = list(sum = sum), .names = \"{.col}\"), \n  .         .groups = \"keep\"), summarise.grouped_df(group_by(season_data, \n  .         name, pos), across(.cols = c(BLK, AST, TRB, STL, MP, \n  .         three_PA, PF), .fns = list(sum = sum), .names = \"{.col}\"), \n  .         .groups = \"keep\"), summarise_cols(.data, dplyr_quosures(...), \n  .         caller_env = caller_env()), withCallingHandlers({\n  .         for (i in seq_along(dots)) {\n  .             context_poke(\"column\", old_current_column)\n  .             quosures <- expand_across(dots[[i]])\n  .             quosures_results <- map(quosures, summarise_eval_one, \n  .                 mask = mask)\n  .             for (k in seq_along(quosures)) {\n  .                 quo <- quosures[[k]]\n  .                 quo_data <- attr(quo, \"dplyr:::data\")\n  .                 quo_result <- quosures_results[[k]]\n  .                 if (is.null(quo_result)) {\n  .                   next\n  .                 }\n  .                 types_k <- quo_result$types\n  .                 chunks_k <- quo_result$chunks\n  .                 results_k <- quo_result$results\n  .                 if (!quo_data$is_named && is.data.frame(types_k)) {\n  .                   chunks_extracted <- .Call(dplyr_extract_chunks, \n  .                     chunks_k, types_k)\n  .                   types_k_names <- names(types_k)\n  .                   for (j in seq_along(chunks_extracted)) {\n  .                     mask$add_one(name = types_k_names[j], chunks = chunks_extracted[[j]], \n  .                       result = results_k[[j]])\n  .                   }\n  .                   chunks <- append(chunks, chunks_extracted)\n  .                   types <- append(types, as.list(types_k))\n  .                   results <- append(results, results_k)\n  .                   out_names <- c(out_names, types_k_names)\n  .                 }\n  .                 else {\n  .                   name <- quo_data$name_auto\n  .                   mask$add_one(name = name, chunks = chunks_k, \n  .                     result = results_k)\n  .                   chunks <- append(chunks, list(chunks_k))\n  .                   types <- append(types, list(types_k))\n  .                   results <- append(results, list(results_k))\n  .                   out_names <- c(out_names, name)\n  .                 }\n  .             }\n  .         }\n  .         recycle_info <- .Call(dplyr_summarise_recycle_chunks, \n  .             chunks, mask$get_rows(), types, results)\n  .         chunks <- recycle_info$chunks\n  .         sizes <- recycle_info$sizes\n  .         results <- recycle_info$results\n  .         for (i in seq_along(chunks)) {\n  .             result <- results[[i]] %||% vec_c(!!!chunks[[i]], \n  .                 .ptype = types[[i]])\n  .             cols[[out_names[i]]] <- result\n  .         }\n  .     }, error = function(e) {\n  .         what <- \"computing\"\n  .         index <- i\n  .         if (inherits(e, \"dplyr:::summarise_incompatible_size\")) {\n  .             index <- e$dplyr_error_data$index\n  .             what <- \"recycling\"\n  .         }\n  .         local_error_context(dots = dots, .index = index, mask = mask)\n  .         bullets <- c(cnd_bullet_header(what), summarise_bullets(e))\n  .         abort(bullets, call = error_call, parent = skip_internal_condition(e))\n  .     }), expand_across(dots[[i]]), across_setup(!!cols, fns = eval_tidy(expr$.fns, \n  .         mask, env = env), names = eval_tidy(expr$.names, mask, \n  .         env = env), .caller_env = dplyr_mask$get_caller_env(), \n  .         inline = TRUE), fix_call(tidyselect::eval_select(cols, \n  .         data = across_cols), call = call(across_if_fn)), withCallingHandlers(expr, \n  .         error = function(cnd) {\n  .             cnd$call <- call\n  .             cnd_signal(cnd)\n  .         }), tidyselect::eval_select(cols, data = across_cols), \n  .     eval_select_impl(data, names(data), as_quosure(expr, env), \n  .         include = include, exclude = exclude, strict = strict, \n  .         name_spec = name_spec, allow_rename = allow_rename, allow_empty = allow_empty, \n  .         allow_predicates = allow_predicates, error_call = error_call, \n  .         ), with_subscript_errors(out <- vars_select_eval(vars, \n  .         expr, strict = strict, data = x, name_spec = name_spec, \n  .         uniquely_named = uniquely_named, allow_rename = allow_rename, \n  .         allow_empty = allow_empty, allow_predicates = allow_predicates, \n  .         type = type, error_call = error_call), type = type), \n  .     try_fetch(expr, vctrs_error_subscript = function(cnd) {\n  .         cnd$subscript_action <- subscript_action(type)\n  .         cnd$subscript_elt <- \"column\"\n  .         cnd_signal(cnd)\n  .     }), withCallingHandlers(expr, vctrs_error_subscript = function(cnd) {\n  .         {\n  .             .__handler_frame__. <- TRUE\n  .             .__setup_frame__. <- frame\n  .         }\n  .         out <- handlers[[1L]](cnd)\n  .         if (!inherits(out, \"rlang_zap\")) \n  .             throw(out)\n  .     }), vars_select_eval(vars, expr, strict = strict, data = x, \n  .         name_spec = name_spec, uniquely_named = uniquely_named, \n  .         allow_rename = allow_rename, allow_empty = allow_empty, \n  .         allow_predicates = allow_predicates, type = type, error_call = error_call), \n  .     walk_data_tree(expr, data_mask, context_mask), eval_c(expr, \n  .         data_mask, context_mask), reduce_sels(node, data_mask, \n  .         context_mask, init = init), walk_data_tree(new, data_mask, \n  .         context_mask), as_indices_sel_impl(out, vars = vars, \n  .         strict = strict, data = data, allow_predicates = allow_predicates, \n  .         call = error_call, arg = as_label(expr)), as_indices_impl(x, \n  .         vars, call = call, arg = arg, strict = strict), chr_as_locations(x, \n  .         vars, call = call, arg = arg), vctrs::vec_as_location(x, \n  .         n = length(vars), names = vars, call = call, arg = arg), \n  .     `<fn>`(), stop_subscript_oob(i = i, subscript_type = subscript_type, \n  .         names = names, subscript_action = subscript_action, subscript_arg = subscript_arg, \n  .         call = call), stop_subscript(class = \"vctrs_error_subscript_oob\", \n  .         i = i, subscript_type = subscript_type, ..., call = call), \n  .     abort(class = c(class, \"vctrs_error_subscript\"), i = i, ..., \n  .         call = vctrs_error_call(call))), parent = c(0L, 1L, 2L, \n  . 3L, 4L, 5L, 6L, 7L, 6L, 9L, 10L, 4L, 12L, 13L, 13L, 15L, 16L, \n  . 17L, 18L, 19L, 13L, 13L, 13L, 23L, 24L, 0L, 0L, 0L, 28L, 29L, \n  . 29L, 31L, 32L, 33L, 32L, 35L, 36L, 37L, 38L, 36L, 40L, 41L, 42L, \n  . 43L, 44L, 45L, 46L, 47L, 0L, 49L, 50L, 51L), visible = c(TRUE, \n  . TRUE, TRUE, TRUE, TRUE, TRUE, TRUE, TRUE, TRUE, TRUE, TRUE, TRUE, \n  . TRUE, TRUE, TRUE, TRUE, TRUE, TRUE, TRUE, TRUE, TRUE, TRUE, TRUE, \n  . TRUE, TRUE, TRUE, TRUE, TRUE, TRUE, TRUE, TRUE, TRUE, FALSE, \n  . FALSE, FALSE, FALSE, FALSE, FALSE, FALSE, FALSE, FALSE, FALSE, \n  . FALSE, FALSE, FALSE, FALSE, FALSE, FALSE, FALSE, FALSE, FALSE, \n  . FALSE), namespace = c(\"IRkernel\", NA, \"IRkernel\", NA, \"base\", \n  . \"base\", \"base\", \"base\", \"base\", \"base\", \"base\", \"evaluate\", \"evaluate\", \n  . \"evaluate\", \"evaluate\", \"base\", \"base\", \"base\", \"base\", \"base\", \n  . \"base\", \"base\", \"evaluate\", \"base\", \"base\", \"dplyr\", \"dplyr\", \n  . \"dplyr\", \"dplyr\", \"base\", \"dplyr\", \"dplyr\", \"dplyr\", \"base\", \n  . \"tidyselect\", \"tidyselect\", \"tidyselect\", \"rlang\", \"base\", \"tidyselect\", \n  . \"tidyselect\", \"tidyselect\", \"tidyselect\", \"tidyselect\", \"tidyselect\", \n  . \"tidyselect\", \"tidyselect\", \"vctrs\", \"vctrs\", \"vctrs\", \"vctrs\", \n  . \"rlang\"), scope = c(\"::\", NA, \"local\", NA, \"::\", \"local\", \"local\", \n  . \"local\", \"local\", \"local\", \"local\", \"::\", \":::\", \"local\", \"local\", \n  . \"::\", \"::\", \"local\", \"local\", \"local\", \"::\", \"::\", \":::\", \"::\", \n  . \"::\", \"::\", \"::\", \":::\", \":::\", \"::\", \":::\", \":::\", \":::\", \"::\", \n  . \"::\", \":::\", \":::\", \"::\", \"::\", \":::\", \":::\", \":::\", \":::\", \":::\", \n  . \":::\", \":::\", \":::\", \"::\", \"local\", \":::\", \":::\", \"::\"), error_frame = c(FALSE, \n  . FALSE, FALSE, FALSE, FALSE, FALSE, FALSE, FALSE, FALSE, FALSE, \n  . FALSE, FALSE, FALSE, FALSE, FALSE, FALSE, FALSE, FALSE, FALSE, \n  . FALSE, FALSE, FALSE, FALSE, FALSE, FALSE, FALSE, FALSE, FALSE, \n  . FALSE, FALSE, FALSE, TRUE, FALSE, FALSE, FALSE, FALSE, FALSE, \n  . FALSE, FALSE, FALSE, FALSE, FALSE, FALSE, FALSE, FALSE, FALSE, \n  . FALSE, FALSE, FALSE, FALSE, FALSE, FALSE)), row.names = c(NA, \n  . -52L), version = 2L, class = c(\"rlang_trace\", \"rlib_trace\", \"tbl\", \n  . \"data.frame\")), parent = NULL, i = \"BLK\", subscript_type = \"character\", \n  .     names = c(\"BLK_per_MP\", \"AST_per_MP\", \"TRB_per_MP\", \"STL_per_MP\", \n  .     \"three_PA_per_MP\", \"PF_per_MP\"), subscript_action = \"subset\", \n  .     subscript_arg = \"BLK\", call = across(), subscript_elt = \"column\"), class = c(\"vctrs_error_subscript_oob\", \n  . \"vctrs_error_subscript\", \"rlang_error\", \"error\", \"condition\")))",
      "40. abort(bullets, call = error_call, parent = skip_internal_condition(e))",
      "41. signal_abort(cnd, .file)"
     ]
    }
   ],
   "source": [
    "# 4\n",
    "\n",
    "season_data <- season_data |>\n",
    "    group_by(name, pos) |>\n",
    "    summarize(across(.cols  = c(BLK, AST, TRB, STL, MP, three_PA, PF), \n",
    "                     .fns   = list(sum=sum),\n",
    "                     .names = \"{.col}\"),\n",
    "              .groups = \"keep\") |>\n",
    "    mutate(across(.cols  = c(BLK, AST, TRB, STL, three_PA, PF),\n",
    "                  .fns   = list(function(.){return(./MP)}),\n",
    "                  .names = \"{.col}_per_MP\"),\n",
    "           .keep = \"unused\")"
   ]
  },
  {
   "cell_type": "markdown",
   "id": "435dbc46-8e8e-47c2-b4f7-5d1bd6e1a59d",
   "metadata": {},
   "source": [
    "\n",
    "<br>\n",
    "\n"
   ]
  },
  {
   "cell_type": "markdown",
   "id": "74d756c4-4425-4a37-b115-acd75c47b6bd",
   "metadata": {
    "tags": []
   },
   "source": [
    "### &nbsp;&nbsp;&nbsp;&nbsp;&nbsp;&nbsp; Loading Player Height, Weight, and Merging Dataframes"
   ]
  },
  {
   "cell_type": "markdown",
   "id": "837217ad-9032-4d49-8fb7-624c33685e8d",
   "metadata": {},
   "source": [
    "So far we've loaded and cleaned the season statistics for each player in the NBA from 2000 to 2015. We're almost done with finalizing our dataset, we just need to match the position height and weight to each player."
   ]
  },
  {
   "cell_type": "code",
   "execution_count": 28,
   "id": "56065793-de41-46c1-ba11-2018ec4c8d20",
   "metadata": {},
   "outputs": [
    {
     "data": {
      "text/html": [
       "<table class=\"dataframe\">\n",
       "<caption>A tibble: 6 × 8</caption>\n",
       "<thead>\n",
       "\t<tr><th scope=col>name</th><th scope=col>year_start</th><th scope=col>year_end</th><th scope=col>position</th><th scope=col>height</th><th scope=col>weight</th><th scope=col>birth_date</th><th scope=col>college</th></tr>\n",
       "\t<tr><th scope=col>&lt;chr&gt;</th><th scope=col>&lt;dbl&gt;</th><th scope=col>&lt;dbl&gt;</th><th scope=col>&lt;chr&gt;</th><th scope=col>&lt;chr&gt;</th><th scope=col>&lt;dbl&gt;</th><th scope=col>&lt;chr&gt;</th><th scope=col>&lt;chr&gt;</th></tr>\n",
       "</thead>\n",
       "<tbody>\n",
       "\t<tr><td>Alaa Abdelnaby     </td><td>1991</td><td>1995</td><td>F-C</td><td>6-10</td><td>240</td><td>June 24, 1968    </td><td>Duke University                      </td></tr>\n",
       "\t<tr><td>Zaid Abdul-Aziz    </td><td>1969</td><td>1978</td><td>C-F</td><td>6-9 </td><td>235</td><td>April 7, 1946    </td><td>Iowa State University                </td></tr>\n",
       "\t<tr><td>Kareem Abdul-Jabbar</td><td>1970</td><td>1989</td><td>C  </td><td>7-2 </td><td>225</td><td>April 16, 1947   </td><td>University of California, Los Angeles</td></tr>\n",
       "\t<tr><td>Mahmoud Abdul-Rauf </td><td>1991</td><td>2001</td><td>G  </td><td>6-1 </td><td>162</td><td>March 9, 1969    </td><td>Louisiana State University           </td></tr>\n",
       "\t<tr><td>Tariq Abdul-Wahad  </td><td>1998</td><td>2003</td><td>F  </td><td>6-6 </td><td>223</td><td>November 3, 1974 </td><td>San Jose State University            </td></tr>\n",
       "\t<tr><td>Shareef Abdur-Rahim</td><td>1997</td><td>2008</td><td>F  </td><td>6-9 </td><td>225</td><td>December 11, 1976</td><td>University of California             </td></tr>\n",
       "</tbody>\n",
       "</table>\n"
      ],
      "text/latex": [
       "A tibble: 6 × 8\n",
       "\\begin{tabular}{llllllll}\n",
       " name & year\\_start & year\\_end & position & height & weight & birth\\_date & college\\\\\n",
       " <chr> & <dbl> & <dbl> & <chr> & <chr> & <dbl> & <chr> & <chr>\\\\\n",
       "\\hline\n",
       "\t Alaa Abdelnaby      & 1991 & 1995 & F-C & 6-10 & 240 & June 24, 1968     & Duke University                      \\\\\n",
       "\t Zaid Abdul-Aziz     & 1969 & 1978 & C-F & 6-9  & 235 & April 7, 1946     & Iowa State University                \\\\\n",
       "\t Kareem Abdul-Jabbar & 1970 & 1989 & C   & 7-2  & 225 & April 16, 1947    & University of California, Los Angeles\\\\\n",
       "\t Mahmoud Abdul-Rauf  & 1991 & 2001 & G   & 6-1  & 162 & March 9, 1969     & Louisiana State University           \\\\\n",
       "\t Tariq Abdul-Wahad   & 1998 & 2003 & F   & 6-6  & 223 & November 3, 1974  & San Jose State University            \\\\\n",
       "\t Shareef Abdur-Rahim & 1997 & 2008 & F   & 6-9  & 225 & December 11, 1976 & University of California             \\\\\n",
       "\\end{tabular}\n"
      ],
      "text/markdown": [
       "\n",
       "A tibble: 6 × 8\n",
       "\n",
       "| name &lt;chr&gt; | year_start &lt;dbl&gt; | year_end &lt;dbl&gt; | position &lt;chr&gt; | height &lt;chr&gt; | weight &lt;dbl&gt; | birth_date &lt;chr&gt; | college &lt;chr&gt; |\n",
       "|---|---|---|---|---|---|---|---|\n",
       "| Alaa Abdelnaby      | 1991 | 1995 | F-C | 6-10 | 240 | June 24, 1968     | Duke University                       |\n",
       "| Zaid Abdul-Aziz     | 1969 | 1978 | C-F | 6-9  | 235 | April 7, 1946     | Iowa State University                 |\n",
       "| Kareem Abdul-Jabbar | 1970 | 1989 | C   | 7-2  | 225 | April 16, 1947    | University of California, Los Angeles |\n",
       "| Mahmoud Abdul-Rauf  | 1991 | 2001 | G   | 6-1  | 162 | March 9, 1969     | Louisiana State University            |\n",
       "| Tariq Abdul-Wahad   | 1998 | 2003 | F   | 6-6  | 223 | November 3, 1974  | San Jose State University             |\n",
       "| Shareef Abdur-Rahim | 1997 | 2008 | F   | 6-9  | 225 | December 11, 1976 | University of California              |\n",
       "\n"
      ],
      "text/plain": [
       "  name                year_start year_end position height weight\n",
       "1 Alaa Abdelnaby      1991       1995     F-C      6-10   240   \n",
       "2 Zaid Abdul-Aziz     1969       1978     C-F      6-9    235   \n",
       "3 Kareem Abdul-Jabbar 1970       1989     C        7-2    225   \n",
       "4 Mahmoud Abdul-Rauf  1991       2001     G        6-1    162   \n",
       "5 Tariq Abdul-Wahad   1998       2003     F        6-6    223   \n",
       "6 Shareef Abdur-Rahim 1997       2008     F        6-9    225   \n",
       "  birth_date        college                              \n",
       "1 June 24, 1968     Duke University                      \n",
       "2 April 7, 1946     Iowa State University                \n",
       "3 April 16, 1947    University of California, Los Angeles\n",
       "4 March 9, 1969     Louisiana State University           \n",
       "5 November 3, 1974  San Jose State University            \n",
       "6 December 11, 1976 University of California             "
      ]
     },
     "metadata": {},
     "output_type": "display_data"
    }
   ],
   "source": [
    "# NEW:\n",
    "# raw_player_data <- get_all_players()\n",
    "\n",
    "\n",
    "# PREVIOUS:\n",
    "#\n",
    "urlfile_2 <- \"https://raw.githubusercontent.com/cass12345/ddssccii/main/player_data.csv\"\n",
    "raw_player_data <- read_csv(url(urlfile_2), show_col_types = FALSE)\n",
    "head(raw_player_data)"
   ]
  },
  {
   "cell_type": "markdown",
   "id": "e84942a5-8ae8-46d4-a60c-4d0e5d0ab89d",
   "metadata": {},
   "source": [
    "<br>\n",
    "\n",
    "Wrangling this data will be easier. All we have to do is convert the height from the \"<feet>-<inches>\" format to a numerical format, and select the columns we are interested in. Whether we use inches or centimeters doesn't matter since we will be normalizing each height and weight observation in our classification recipe. We convert the height string to a number by separating the feet and inches into their own columns, then redefining `height` using `mutate` to equal `(feet * 12) + inches` ."
   ]
  },
  {
   "cell_type": "code",
   "execution_count": 29,
   "id": "a9b70f16-44ca-48b8-b816-50844bf7d355",
   "metadata": {},
   "outputs": [
    {
     "data": {
      "text/html": [
       "<table class=\"dataframe\">\n",
       "<caption>A tibble: 6 × 3</caption>\n",
       "<thead>\n",
       "\t<tr><th scope=col>name</th><th scope=col>weight</th><th scope=col>height</th></tr>\n",
       "\t<tr><th scope=col>&lt;chr&gt;</th><th scope=col>&lt;dbl&gt;</th><th scope=col>&lt;dbl&gt;</th></tr>\n",
       "</thead>\n",
       "<tbody>\n",
       "\t<tr><td>Alaa Abdelnaby     </td><td>240</td><td>82</td></tr>\n",
       "\t<tr><td>Zaid Abdul-Aziz    </td><td>235</td><td>81</td></tr>\n",
       "\t<tr><td>Kareem Abdul-Jabbar</td><td>225</td><td>86</td></tr>\n",
       "\t<tr><td>Mahmoud Abdul-Rauf </td><td>162</td><td>73</td></tr>\n",
       "\t<tr><td>Tariq Abdul-Wahad  </td><td>223</td><td>78</td></tr>\n",
       "\t<tr><td>Shareef Abdur-Rahim</td><td>225</td><td>81</td></tr>\n",
       "</tbody>\n",
       "</table>\n"
      ],
      "text/latex": [
       "A tibble: 6 × 3\n",
       "\\begin{tabular}{lll}\n",
       " name & weight & height\\\\\n",
       " <chr> & <dbl> & <dbl>\\\\\n",
       "\\hline\n",
       "\t Alaa Abdelnaby      & 240 & 82\\\\\n",
       "\t Zaid Abdul-Aziz     & 235 & 81\\\\\n",
       "\t Kareem Abdul-Jabbar & 225 & 86\\\\\n",
       "\t Mahmoud Abdul-Rauf  & 162 & 73\\\\\n",
       "\t Tariq Abdul-Wahad   & 223 & 78\\\\\n",
       "\t Shareef Abdur-Rahim & 225 & 81\\\\\n",
       "\\end{tabular}\n"
      ],
      "text/markdown": [
       "\n",
       "A tibble: 6 × 3\n",
       "\n",
       "| name &lt;chr&gt; | weight &lt;dbl&gt; | height &lt;dbl&gt; |\n",
       "|---|---|---|\n",
       "| Alaa Abdelnaby      | 240 | 82 |\n",
       "| Zaid Abdul-Aziz     | 235 | 81 |\n",
       "| Kareem Abdul-Jabbar | 225 | 86 |\n",
       "| Mahmoud Abdul-Rauf  | 162 | 73 |\n",
       "| Tariq Abdul-Wahad   | 223 | 78 |\n",
       "| Shareef Abdur-Rahim | 225 | 81 |\n",
       "\n"
      ],
      "text/plain": [
       "  name                weight height\n",
       "1 Alaa Abdelnaby      240    82    \n",
       "2 Zaid Abdul-Aziz     235    81    \n",
       "3 Kareem Abdul-Jabbar 225    86    \n",
       "4 Mahmoud Abdul-Rauf  162    73    \n",
       "5 Tariq Abdul-Wahad   223    78    \n",
       "6 Shareef Abdur-Rahim 225    81    "
      ]
     },
     "metadata": {},
     "output_type": "display_data"
    }
   ],
   "source": [
    "player_data <- raw_player_data |>\n",
    "    separate(col  = height,\n",
    "             into = c(\"feet\",\"inches\"),\n",
    "             sep  = \"-\",\n",
    "             convert = TRUE)|>\n",
    "    mutate(height = feet * 12  + inches) |>\n",
    "    select(name, weight, height)\n",
    "\n",
    "head(player_data)"
   ]
  },
  {
   "cell_type": "markdown",
   "id": "fc948ddc-7147-403d-b6e7-d04d7f8cbd72",
   "metadata": {},
   "source": [
    "<br>\n",
    "\n",
    "Now we just have to merge the dataframes."
   ]
  },
  {
   "cell_type": "code",
   "execution_count": 30,
   "id": "a37e30b7-4735-4461-b8db-cec2e44f43b8",
   "metadata": {},
   "outputs": [
    {
     "data": {
      "text/html": [
       "<table class=\"dataframe\">\n",
       "<caption>A data.frame: 6 × 10</caption>\n",
       "<thead>\n",
       "\t<tr><th></th><th scope=col>name</th><th scope=col>pos</th><th scope=col>BLK_per_MP</th><th scope=col>AST_per_MP</th><th scope=col>TRB_per_MP</th><th scope=col>STL_per_MP</th><th scope=col>three_PA_per_MP</th><th scope=col>PF_per_MP</th><th scope=col>weight</th><th scope=col>height</th></tr>\n",
       "\t<tr><th></th><th scope=col>&lt;chr&gt;</th><th scope=col>&lt;fct&gt;</th><th scope=col>&lt;dbl&gt;</th><th scope=col>&lt;dbl&gt;</th><th scope=col>&lt;dbl&gt;</th><th scope=col>&lt;dbl&gt;</th><th scope=col>&lt;dbl&gt;</th><th scope=col>&lt;dbl&gt;</th><th scope=col>&lt;dbl&gt;</th><th scope=col>&lt;dbl&gt;</th></tr>\n",
       "</thead>\n",
       "<tbody>\n",
       "\t<tr><th scope=row>1</th><td>A.C. Green   </td><td>PF</td><td>0.007784431</td><td>0.03562874</td><td>0.23922156</td><td>0.02485030</td><td>0.002994012</td><td>0.07365269</td><td>220</td><td>81</td></tr>\n",
       "\t<tr><th scope=row>2</th><td>A.J. Bramlett</td><td>C </td><td>0.000000000</td><td>0.00000000</td><td>0.36065574</td><td>0.01639344</td><td>0.000000000</td><td>0.21311475</td><td>227</td><td>82</td></tr>\n",
       "\t<tr><th scope=row>3</th><td>A.J. Guyton  </td><td>PG</td><td>0.009630819</td><td>0.11797753</td><td>0.06420546</td><td>0.01605136</td><td>0.154895666</td><td>0.04654896</td><td>180</td><td>73</td></tr>\n",
       "\t<tr><th scope=row>4</th><td>A.J. Price   </td><td>SG</td><td>0.000000000</td><td>0.13131313</td><td>0.10101010</td><td>0.01010101</td><td>0.222222222</td><td>0.05050505</td><td>181</td><td>74</td></tr>\n",
       "\t<tr><th scope=row>5</th><td>A.J. Price   </td><td>PG</td><td>0.002166586</td><td>0.14443909</td><td>0.09605200</td><td>0.03153587</td><td>0.174530573</td><td>0.05946076</td><td>181</td><td>74</td></tr>\n",
       "\t<tr><th scope=row>6</th><td>Aaron Brooks </td><td>PG</td><td>0.006230943</td><td>0.14450484</td><td>0.07888108</td><td>0.02744266</td><td>0.165186265</td><td>0.08743206</td><td>161</td><td>72</td></tr>\n",
       "</tbody>\n",
       "</table>\n"
      ],
      "text/latex": [
       "A data.frame: 6 × 10\n",
       "\\begin{tabular}{r|llllllllll}\n",
       "  & name & pos & BLK\\_per\\_MP & AST\\_per\\_MP & TRB\\_per\\_MP & STL\\_per\\_MP & three\\_PA\\_per\\_MP & PF\\_per\\_MP & weight & height\\\\\n",
       "  & <chr> & <fct> & <dbl> & <dbl> & <dbl> & <dbl> & <dbl> & <dbl> & <dbl> & <dbl>\\\\\n",
       "\\hline\n",
       "\t1 & A.C. Green    & PF & 0.007784431 & 0.03562874 & 0.23922156 & 0.02485030 & 0.002994012 & 0.07365269 & 220 & 81\\\\\n",
       "\t2 & A.J. Bramlett & C  & 0.000000000 & 0.00000000 & 0.36065574 & 0.01639344 & 0.000000000 & 0.21311475 & 227 & 82\\\\\n",
       "\t3 & A.J. Guyton   & PG & 0.009630819 & 0.11797753 & 0.06420546 & 0.01605136 & 0.154895666 & 0.04654896 & 180 & 73\\\\\n",
       "\t4 & A.J. Price    & SG & 0.000000000 & 0.13131313 & 0.10101010 & 0.01010101 & 0.222222222 & 0.05050505 & 181 & 74\\\\\n",
       "\t5 & A.J. Price    & PG & 0.002166586 & 0.14443909 & 0.09605200 & 0.03153587 & 0.174530573 & 0.05946076 & 181 & 74\\\\\n",
       "\t6 & Aaron Brooks  & PG & 0.006230943 & 0.14450484 & 0.07888108 & 0.02744266 & 0.165186265 & 0.08743206 & 161 & 72\\\\\n",
       "\\end{tabular}\n"
      ],
      "text/markdown": [
       "\n",
       "A data.frame: 6 × 10\n",
       "\n",
       "| <!--/--> | name &lt;chr&gt; | pos &lt;fct&gt; | BLK_per_MP &lt;dbl&gt; | AST_per_MP &lt;dbl&gt; | TRB_per_MP &lt;dbl&gt; | STL_per_MP &lt;dbl&gt; | three_PA_per_MP &lt;dbl&gt; | PF_per_MP &lt;dbl&gt; | weight &lt;dbl&gt; | height &lt;dbl&gt; |\n",
       "|---|---|---|---|---|---|---|---|---|---|---|\n",
       "| 1 | A.C. Green    | PF | 0.007784431 | 0.03562874 | 0.23922156 | 0.02485030 | 0.002994012 | 0.07365269 | 220 | 81 |\n",
       "| 2 | A.J. Bramlett | C  | 0.000000000 | 0.00000000 | 0.36065574 | 0.01639344 | 0.000000000 | 0.21311475 | 227 | 82 |\n",
       "| 3 | A.J. Guyton   | PG | 0.009630819 | 0.11797753 | 0.06420546 | 0.01605136 | 0.154895666 | 0.04654896 | 180 | 73 |\n",
       "| 4 | A.J. Price    | SG | 0.000000000 | 0.13131313 | 0.10101010 | 0.01010101 | 0.222222222 | 0.05050505 | 181 | 74 |\n",
       "| 5 | A.J. Price    | PG | 0.002166586 | 0.14443909 | 0.09605200 | 0.03153587 | 0.174530573 | 0.05946076 | 181 | 74 |\n",
       "| 6 | Aaron Brooks  | PG | 0.006230943 | 0.14450484 | 0.07888108 | 0.02744266 | 0.165186265 | 0.08743206 | 161 | 72 |\n",
       "\n"
      ],
      "text/plain": [
       "  name          pos BLK_per_MP  AST_per_MP TRB_per_MP STL_per_MP\n",
       "1 A.C. Green    PF  0.007784431 0.03562874 0.23922156 0.02485030\n",
       "2 A.J. Bramlett C   0.000000000 0.00000000 0.36065574 0.01639344\n",
       "3 A.J. Guyton   PG  0.009630819 0.11797753 0.06420546 0.01605136\n",
       "4 A.J. Price    SG  0.000000000 0.13131313 0.10101010 0.01010101\n",
       "5 A.J. Price    PG  0.002166586 0.14443909 0.09605200 0.03153587\n",
       "6 Aaron Brooks  PG  0.006230943 0.14450484 0.07888108 0.02744266\n",
       "  three_PA_per_MP PF_per_MP  weight height\n",
       "1 0.002994012     0.07365269 220    81    \n",
       "2 0.000000000     0.21311475 227    82    \n",
       "3 0.154895666     0.04654896 180    73    \n",
       "4 0.222222222     0.05050505 181    74    \n",
       "5 0.174530573     0.05946076 181    74    \n",
       "6 0.165186265     0.08743206 161    72    "
      ]
     },
     "metadata": {},
     "output_type": "display_data"
    }
   ],
   "source": [
    "final_dataset <- merge(x = season_data, y = player_data, by.x = \"name\", by.y = \"name\") |>\n",
    "    drop_na()\n",
    "\n",
    "head(final_dataset)"
   ]
  },
  {
   "cell_type": "markdown",
   "id": "2ebc219d-e743-4dbc-9632-a6fefae69725",
   "metadata": {},
   "source": [
    "<br><br><br>"
   ]
  },
  {
   "cell_type": "markdown",
   "id": "cc70a7c3-bd82-462d-a4e4-c928d3f1d0b2",
   "metadata": {
    "tags": []
   },
   "source": [
    "### &nbsp;&nbsp;&nbsp;&nbsp;&nbsp;&nbsp; Splitting the Train and Test Data"
   ]
  },
  {
   "cell_type": "markdown",
   "id": "dbe32dbd-5ed7-4217-84a0-14478b77dd95",
   "metadata": {},
   "source": [
    "Splitting our data into separate testing and training dataframes will be important for us to test the accuracy of our classification model after we have made it."
   ]
  },
  {
   "cell_type": "code",
   "execution_count": 29,
   "id": "8954d570-4631-4c3a-bdc1-dd9f2fb65597",
   "metadata": {},
   "outputs": [
    {
     "ename": "ERROR",
     "evalue": "Error in eval_select_impl(NULL, .vars, expr(c(!!!dots)), include = .include, : object 'final_dataset' not found\n",
     "output_type": "error",
     "traceback": [
      "Error in eval_select_impl(NULL, .vars, expr(c(!!!dots)), include = .include, : object 'final_dataset' not found\nTraceback:\n",
      "1. initial_split(final_dataset, prop = 0.75, strata = pos)",
      "2. mc_cv(data = data, prop = prop, strata = {\n .     {\n .         strata\n .     }\n . }, breaks = breaks, pool = pool, times = 1, ...)",
      "3. tidyselect::vars_select(names(data), !!enquo(strata))",
      "4. eval_select_impl(NULL, .vars, expr(c(!!!dots)), include = .include, \n .     exclude = .exclude, strict = .strict, name_spec = unique_name_spec, \n .     uniquely_named = TRUE, error_call = caller_env())"
     ]
    }
   ],
   "source": [
    "data_split <- initial_split(final_dataset, prop = 0.75, strata = pos)\n",
    "player_train <- training(data_split)\n",
    "player_test <- testing(data_split)"
   ]
  },
  {
   "cell_type": "markdown",
   "id": "f28bd396-45e0-4d09-acc7-bb1152a96f63",
   "metadata": {
    "tags": []
   },
   "source": [
    "## Exploratory Analysis"
   ]
  },
  {
   "cell_type": "code",
   "execution_count": 32,
   "id": "78f93036-d5a1-4c34-8af2-9b827787f783",
   "metadata": {},
   "outputs": [
    {
     "data": {
      "text/html": [
       "<table class=\"dataframe\">\n",
       "<caption>A tibble: 6 × 4</caption>\n",
       "<thead>\n",
       "\t<tr><th scope=col>name</th><th scope=col>pos</th><th scope=col>key</th><th scope=col>value</th></tr>\n",
       "\t<tr><th scope=col>&lt;chr&gt;</th><th scope=col>&lt;fct&gt;</th><th scope=col>&lt;chr&gt;</th><th scope=col>&lt;dbl&gt;</th></tr>\n",
       "</thead>\n",
       "<tbody>\n",
       "\t<tr><td>Aaron Gray</td><td>C</td><td>BLK_per_MP     </td><td>0.0234669028</td></tr>\n",
       "\t<tr><td>Aaron Gray</td><td>C</td><td>AST_per_MP     </td><td>0.0555678548</td></tr>\n",
       "\t<tr><td>Aaron Gray</td><td>C</td><td>TRB_per_MP     </td><td>0.3114899269</td></tr>\n",
       "\t<tr><td>Aaron Gray</td><td>C</td><td>STL_per_MP     </td><td>0.0250166039</td></tr>\n",
       "\t<tr><td>Aaron Gray</td><td>C</td><td>three_PA_per_MP</td><td>0.0008855435</td></tr>\n",
       "\t<tr><td>Aaron Gray</td><td>C</td><td>PF_per_MP      </td><td>0.1762231570</td></tr>\n",
       "</tbody>\n",
       "</table>\n"
      ],
      "text/latex": [
       "A tibble: 6 × 4\n",
       "\\begin{tabular}{llll}\n",
       " name & pos & key & value\\\\\n",
       " <chr> & <fct> & <chr> & <dbl>\\\\\n",
       "\\hline\n",
       "\t Aaron Gray & C & BLK\\_per\\_MP      & 0.0234669028\\\\\n",
       "\t Aaron Gray & C & AST\\_per\\_MP      & 0.0555678548\\\\\n",
       "\t Aaron Gray & C & TRB\\_per\\_MP      & 0.3114899269\\\\\n",
       "\t Aaron Gray & C & STL\\_per\\_MP      & 0.0250166039\\\\\n",
       "\t Aaron Gray & C & three\\_PA\\_per\\_MP & 0.0008855435\\\\\n",
       "\t Aaron Gray & C & PF\\_per\\_MP       & 0.1762231570\\\\\n",
       "\\end{tabular}\n"
      ],
      "text/markdown": [
       "\n",
       "A tibble: 6 × 4\n",
       "\n",
       "| name &lt;chr&gt; | pos &lt;fct&gt; | key &lt;chr&gt; | value &lt;dbl&gt; |\n",
       "|---|---|---|---|\n",
       "| Aaron Gray | C | BLK_per_MP      | 0.0234669028 |\n",
       "| Aaron Gray | C | AST_per_MP      | 0.0555678548 |\n",
       "| Aaron Gray | C | TRB_per_MP      | 0.3114899269 |\n",
       "| Aaron Gray | C | STL_per_MP      | 0.0250166039 |\n",
       "| Aaron Gray | C | three_PA_per_MP | 0.0008855435 |\n",
       "| Aaron Gray | C | PF_per_MP       | 0.1762231570 |\n",
       "\n"
      ],
      "text/plain": [
       "  name       pos key             value       \n",
       "1 Aaron Gray C   BLK_per_MP      0.0234669028\n",
       "2 Aaron Gray C   AST_per_MP      0.0555678548\n",
       "3 Aaron Gray C   TRB_per_MP      0.3114899269\n",
       "4 Aaron Gray C   STL_per_MP      0.0250166039\n",
       "5 Aaron Gray C   three_PA_per_MP 0.0008855435\n",
       "6 Aaron Gray C   PF_per_MP       0.1762231570"
      ]
     },
     "metadata": {},
     "output_type": "display_data"
    }
   ],
   "source": [
    "player_train |>\n",
    "    pivot_longer(3:10, names_to = \"key\", values_to = \"value\") |>\n",
    "    head()"
   ]
  },
  {
   "cell_type": "code",
   "execution_count": 218,
   "id": "04389533-c3d4-4c75-84b8-73d811c6d906",
   "metadata": {},
   "outputs": [
    {
     "data": {
      "text/html": [
       "79.021451104101"
      ],
      "text/latex": [
       "79.021451104101"
      ],
      "text/markdown": [
       "79.021451104101"
      ],
      "text/plain": [
       "[1] 79.02145"
      ]
     },
     "metadata": {},
     "output_type": "display_data"
    }
   ],
   "source": [
    "mean(player_train[,\"height\"])"
   ]
  },
  {
   "cell_type": "code",
   "execution_count": 222,
   "id": "a022b2f1-d980-4f94-925f-f2f8ec0624c0",
   "metadata": {
    "collapsed": true,
    "jupyter": {
     "outputs_hidden": true
    },
    "tags": []
   },
   "outputs": [
    {
     "data": {
      "text/html": [
       "<table class=\"dataframe\">\n",
       "<caption>A tibble: 12680 × 4</caption>\n",
       "<thead>\n",
       "\t<tr><th scope=col>name</th><th scope=col>pos</th><th scope=col>key</th><th scope=col>value</th></tr>\n",
       "\t<tr><th scope=col>&lt;chr&gt;</th><th scope=col>&lt;fct&gt;</th><th scope=col>&lt;chr&gt;</th><th scope=col>&lt;dbl[,1]&gt;</th></tr>\n",
       "</thead>\n",
       "<tbody>\n",
       "\t<tr><td>Aaron Gray  </td><td>C</td><td>BLK_per_MP     </td><td> 0.14997935</td></tr>\n",
       "\t<tr><td>Aaron Gray  </td><td>C</td><td>AST_per_MP     </td><td>-0.33905426</td></tr>\n",
       "\t<tr><td>Aaron Gray  </td><td>C</td><td>TRB_per_MP     </td><td> 1.58364439</td></tr>\n",
       "\t<tr><td>Aaron Gray  </td><td>C</td><td>STL_per_MP     </td><td>-0.30953901</td></tr>\n",
       "\t<tr><td>Aaron Gray  </td><td>C</td><td>three_PA_per_MP</td><td>-0.96106335</td></tr>\n",
       "\t<tr><td>Aaron Gray  </td><td>C</td><td>PF_per_MP      </td><td> 1.52743366</td></tr>\n",
       "\t<tr><td>Aaron Gray  </td><td>C</td><td>weight         </td><td> 1.88222936</td></tr>\n",
       "\t<tr><td>Aaron Gray  </td><td>C</td><td>height         </td><td> 1.42430559</td></tr>\n",
       "\t<tr><td>Adam Keefe  </td><td>C</td><td>BLK_per_MP     </td><td> 0.07018428</td></tr>\n",
       "\t<tr><td>Adam Keefe  </td><td>C</td><td>AST_per_MP     </td><td>-0.32547111</td></tr>\n",
       "\t<tr><td>Adam Keefe  </td><td>C</td><td>TRB_per_MP     </td><td> 0.59539103</td></tr>\n",
       "\t<tr><td>Adam Keefe  </td><td>C</td><td>STL_per_MP     </td><td>-0.13303112</td></tr>\n",
       "\t<tr><td>Adam Keefe  </td><td>C</td><td>three_PA_per_MP</td><td>-0.94960822</td></tr>\n",
       "\t<tr><td>Adam Keefe  </td><td>C</td><td>PF_per_MP      </td><td> 0.94805899</td></tr>\n",
       "\t<tr><td>Adam Keefe  </td><td>C</td><td>weight         </td><td> 0.38363158</td></tr>\n",
       "\t<tr><td>Adam Keefe  </td><td>C</td><td>height         </td><td> 0.56604009</td></tr>\n",
       "\t<tr><td>Adonal Foyle</td><td>C</td><td>BLK_per_MP     </td><td> 3.01753671</td></tr>\n",
       "\t<tr><td>Adonal Foyle</td><td>C</td><td>AST_per_MP     </td><td>-0.88646129</td></tr>\n",
       "\t<tr><td>Adonal Foyle</td><td>C</td><td>TRB_per_MP     </td><td> 1.02072414</td></tr>\n",
       "\t<tr><td>Adonal Foyle</td><td>C</td><td>STL_per_MP     </td><td>-0.59746878</td></tr>\n",
       "\t<tr><td>Adonal Foyle</td><td>C</td><td>three_PA_per_MP</td><td>-0.97298085</td></tr>\n",
       "\t<tr><td>Adonal Foyle</td><td>C</td><td>PF_per_MP      </td><td> 0.28344749</td></tr>\n",
       "\t<tr><td>Adonal Foyle</td><td>C</td><td>weight         </td><td> 1.13293047</td></tr>\n",
       "\t<tr><td>Adonal Foyle</td><td>C</td><td>height         </td><td> 0.85212859</td></tr>\n",
       "\t<tr><td>Al Horford  </td><td>C</td><td>BLK_per_MP     </td><td> 0.60161673</td></tr>\n",
       "\t<tr><td>Al Horford  </td><td>C</td><td>AST_per_MP     </td><td> 0.10739498</td></tr>\n",
       "\t<tr><td>Al Horford  </td><td>C</td><td>TRB_per_MP     </td><td> 1.13334485</td></tr>\n",
       "\t<tr><td>Al Horford  </td><td>C</td><td>STL_per_MP     </td><td>-0.32321829</td></tr>\n",
       "\t<tr><td>Al Horford  </td><td>C</td><td>three_PA_per_MP</td><td>-0.91637682</td></tr>\n",
       "\t<tr><td>Al Horford  </td><td>C</td><td>PF_per_MP      </td><td>-0.64943406</td></tr>\n",
       "\t<tr><td>⋮</td><td>⋮</td><td>⋮</td><td>⋮</td></tr>\n",
       "\t<tr><td>Wilson Chandler </td><td>SG</td><td>TRB_per_MP     </td><td>-0.265114813</td></tr>\n",
       "\t<tr><td>Wilson Chandler </td><td>SG</td><td>STL_per_MP     </td><td>-0.602244616</td></tr>\n",
       "\t<tr><td>Wilson Chandler </td><td>SG</td><td>three_PA_per_MP</td><td>-0.012481902</td></tr>\n",
       "\t<tr><td>Wilson Chandler </td><td>SG</td><td>PF_per_MP      </td><td>-0.535607415</td></tr>\n",
       "\t<tr><td>Wilson Chandler </td><td>SG</td><td>weight         </td><td> 0.196306855</td></tr>\n",
       "\t<tr><td>Wilson Chandler </td><td>SG</td><td>height         </td><td> 0.279951588</td></tr>\n",
       "\t<tr><td>Xavier Henry    </td><td>SG</td><td>BLK_per_MP     </td><td>-0.462249393</td></tr>\n",
       "\t<tr><td>Xavier Henry    </td><td>SG</td><td>AST_per_MP     </td><td>-0.608541029</td></tr>\n",
       "\t<tr><td>Xavier Henry    </td><td>SG</td><td>TRB_per_MP     </td><td>-0.709331111</td></tr>\n",
       "\t<tr><td>Xavier Henry    </td><td>SG</td><td>STL_per_MP     </td><td>-0.097736845</td></tr>\n",
       "\t<tr><td>Xavier Henry    </td><td>SG</td><td>three_PA_per_MP</td><td>-0.580958797</td></tr>\n",
       "\t<tr><td>Xavier Henry    </td><td>SG</td><td>PF_per_MP      </td><td>-0.452726539</td></tr>\n",
       "\t<tr><td>Xavier Henry    </td><td>SG</td><td>weight         </td><td> 0.008982132</td></tr>\n",
       "\t<tr><td>Xavier Henry    </td><td>SG</td><td>height         </td><td>-0.292225416</td></tr>\n",
       "\t<tr><td>Xavier Silas    </td><td>SG</td><td>BLK_per_MP     </td><td>-0.813399810</td></tr>\n",
       "\t<tr><td>Xavier Silas    </td><td>SG</td><td>AST_per_MP     </td><td> 0.061853687</td></tr>\n",
       "\t<tr><td>Xavier Silas    </td><td>SG</td><td>TRB_per_MP     </td><td>-0.808167583</td></tr>\n",
       "\t<tr><td>Xavier Silas    </td><td>SG</td><td>STL_per_MP     </td><td>-1.720692441</td></tr>\n",
       "\t<tr><td>Xavier Silas    </td><td>SG</td><td>three_PA_per_MP</td><td> 1.314245434</td></tr>\n",
       "\t<tr><td>Xavier Silas    </td><td>SG</td><td>PF_per_MP      </td><td> 0.505245122</td></tr>\n",
       "\t<tr><td>Xavier Silas    </td><td>SG</td><td>weight         </td><td>-0.552992038</td></tr>\n",
       "\t<tr><td>Xavier Silas    </td><td>SG</td><td>height         </td><td>-0.578313918</td></tr>\n",
       "\t<tr><td>Yakhouba Diawara</td><td>SG</td><td>BLK_per_MP     </td><td>-0.580542884</td></tr>\n",
       "\t<tr><td>Yakhouba Diawara</td><td>SG</td><td>AST_per_MP     </td><td>-0.370639062</td></tr>\n",
       "\t<tr><td>Yakhouba Diawara</td><td>SG</td><td>TRB_per_MP     </td><td>-0.839469853</td></tr>\n",
       "\t<tr><td>Yakhouba Diawara</td><td>SG</td><td>STL_per_MP     </td><td>-0.472854527</td></tr>\n",
       "\t<tr><td>Yakhouba Diawara</td><td>SG</td><td>three_PA_per_MP</td><td> 1.067613864</td></tr>\n",
       "\t<tr><td>Yakhouba Diawara</td><td>SG</td><td>PF_per_MP      </td><td> 0.203069394</td></tr>\n",
       "\t<tr><td>Yakhouba Diawara</td><td>SG</td><td>weight         </td><td> 0.196306855</td></tr>\n",
       "\t<tr><td>Yakhouba Diawara</td><td>SG</td><td>height         </td><td>-0.006136914</td></tr>\n",
       "</tbody>\n",
       "</table>\n"
      ],
      "text/latex": [
       "A tibble: 12680 × 4\n",
       "\\begin{tabular}{llll}\n",
       " name & pos & key & value\\\\\n",
       " <chr> & <fct> & <chr> & <dbl{[},1{]}>\\\\\n",
       "\\hline\n",
       "\t Aaron Gray   & C & BLK\\_per\\_MP      &  0.14997935\\\\\n",
       "\t Aaron Gray   & C & AST\\_per\\_MP      & -0.33905426\\\\\n",
       "\t Aaron Gray   & C & TRB\\_per\\_MP      &  1.58364439\\\\\n",
       "\t Aaron Gray   & C & STL\\_per\\_MP      & -0.30953901\\\\\n",
       "\t Aaron Gray   & C & three\\_PA\\_per\\_MP & -0.96106335\\\\\n",
       "\t Aaron Gray   & C & PF\\_per\\_MP       &  1.52743366\\\\\n",
       "\t Aaron Gray   & C & weight          &  1.88222936\\\\\n",
       "\t Aaron Gray   & C & height          &  1.42430559\\\\\n",
       "\t Adam Keefe   & C & BLK\\_per\\_MP      &  0.07018428\\\\\n",
       "\t Adam Keefe   & C & AST\\_per\\_MP      & -0.32547111\\\\\n",
       "\t Adam Keefe   & C & TRB\\_per\\_MP      &  0.59539103\\\\\n",
       "\t Adam Keefe   & C & STL\\_per\\_MP      & -0.13303112\\\\\n",
       "\t Adam Keefe   & C & three\\_PA\\_per\\_MP & -0.94960822\\\\\n",
       "\t Adam Keefe   & C & PF\\_per\\_MP       &  0.94805899\\\\\n",
       "\t Adam Keefe   & C & weight          &  0.38363158\\\\\n",
       "\t Adam Keefe   & C & height          &  0.56604009\\\\\n",
       "\t Adonal Foyle & C & BLK\\_per\\_MP      &  3.01753671\\\\\n",
       "\t Adonal Foyle & C & AST\\_per\\_MP      & -0.88646129\\\\\n",
       "\t Adonal Foyle & C & TRB\\_per\\_MP      &  1.02072414\\\\\n",
       "\t Adonal Foyle & C & STL\\_per\\_MP      & -0.59746878\\\\\n",
       "\t Adonal Foyle & C & three\\_PA\\_per\\_MP & -0.97298085\\\\\n",
       "\t Adonal Foyle & C & PF\\_per\\_MP       &  0.28344749\\\\\n",
       "\t Adonal Foyle & C & weight          &  1.13293047\\\\\n",
       "\t Adonal Foyle & C & height          &  0.85212859\\\\\n",
       "\t Al Horford   & C & BLK\\_per\\_MP      &  0.60161673\\\\\n",
       "\t Al Horford   & C & AST\\_per\\_MP      &  0.10739498\\\\\n",
       "\t Al Horford   & C & TRB\\_per\\_MP      &  1.13334485\\\\\n",
       "\t Al Horford   & C & STL\\_per\\_MP      & -0.32321829\\\\\n",
       "\t Al Horford   & C & three\\_PA\\_per\\_MP & -0.91637682\\\\\n",
       "\t Al Horford   & C & PF\\_per\\_MP       & -0.64943406\\\\\n",
       "\t ⋮ & ⋮ & ⋮ & ⋮\\\\\n",
       "\t Wilson Chandler  & SG & TRB\\_per\\_MP      & -0.265114813\\\\\n",
       "\t Wilson Chandler  & SG & STL\\_per\\_MP      & -0.602244616\\\\\n",
       "\t Wilson Chandler  & SG & three\\_PA\\_per\\_MP & -0.012481902\\\\\n",
       "\t Wilson Chandler  & SG & PF\\_per\\_MP       & -0.535607415\\\\\n",
       "\t Wilson Chandler  & SG & weight          &  0.196306855\\\\\n",
       "\t Wilson Chandler  & SG & height          &  0.279951588\\\\\n",
       "\t Xavier Henry     & SG & BLK\\_per\\_MP      & -0.462249393\\\\\n",
       "\t Xavier Henry     & SG & AST\\_per\\_MP      & -0.608541029\\\\\n",
       "\t Xavier Henry     & SG & TRB\\_per\\_MP      & -0.709331111\\\\\n",
       "\t Xavier Henry     & SG & STL\\_per\\_MP      & -0.097736845\\\\\n",
       "\t Xavier Henry     & SG & three\\_PA\\_per\\_MP & -0.580958797\\\\\n",
       "\t Xavier Henry     & SG & PF\\_per\\_MP       & -0.452726539\\\\\n",
       "\t Xavier Henry     & SG & weight          &  0.008982132\\\\\n",
       "\t Xavier Henry     & SG & height          & -0.292225416\\\\\n",
       "\t Xavier Silas     & SG & BLK\\_per\\_MP      & -0.813399810\\\\\n",
       "\t Xavier Silas     & SG & AST\\_per\\_MP      &  0.061853687\\\\\n",
       "\t Xavier Silas     & SG & TRB\\_per\\_MP      & -0.808167583\\\\\n",
       "\t Xavier Silas     & SG & STL\\_per\\_MP      & -1.720692441\\\\\n",
       "\t Xavier Silas     & SG & three\\_PA\\_per\\_MP &  1.314245434\\\\\n",
       "\t Xavier Silas     & SG & PF\\_per\\_MP       &  0.505245122\\\\\n",
       "\t Xavier Silas     & SG & weight          & -0.552992038\\\\\n",
       "\t Xavier Silas     & SG & height          & -0.578313918\\\\\n",
       "\t Yakhouba Diawara & SG & BLK\\_per\\_MP      & -0.580542884\\\\\n",
       "\t Yakhouba Diawara & SG & AST\\_per\\_MP      & -0.370639062\\\\\n",
       "\t Yakhouba Diawara & SG & TRB\\_per\\_MP      & -0.839469853\\\\\n",
       "\t Yakhouba Diawara & SG & STL\\_per\\_MP      & -0.472854527\\\\\n",
       "\t Yakhouba Diawara & SG & three\\_PA\\_per\\_MP &  1.067613864\\\\\n",
       "\t Yakhouba Diawara & SG & PF\\_per\\_MP       &  0.203069394\\\\\n",
       "\t Yakhouba Diawara & SG & weight          &  0.196306855\\\\\n",
       "\t Yakhouba Diawara & SG & height          & -0.006136914\\\\\n",
       "\\end{tabular}\n"
      ],
      "text/markdown": [
       "\n",
       "A tibble: 12680 × 4\n",
       "\n",
       "| name &lt;chr&gt; | pos &lt;fct&gt; | key &lt;chr&gt; | value &lt;dbl[,1]&gt; |\n",
       "|---|---|---|---|\n",
       "| Aaron Gray   | C | BLK_per_MP      |  0.14997935 |\n",
       "| Aaron Gray   | C | AST_per_MP      | -0.33905426 |\n",
       "| Aaron Gray   | C | TRB_per_MP      |  1.58364439 |\n",
       "| Aaron Gray   | C | STL_per_MP      | -0.30953901 |\n",
       "| Aaron Gray   | C | three_PA_per_MP | -0.96106335 |\n",
       "| Aaron Gray   | C | PF_per_MP       |  1.52743366 |\n",
       "| Aaron Gray   | C | weight          |  1.88222936 |\n",
       "| Aaron Gray   | C | height          |  1.42430559 |\n",
       "| Adam Keefe   | C | BLK_per_MP      |  0.07018428 |\n",
       "| Adam Keefe   | C | AST_per_MP      | -0.32547111 |\n",
       "| Adam Keefe   | C | TRB_per_MP      |  0.59539103 |\n",
       "| Adam Keefe   | C | STL_per_MP      | -0.13303112 |\n",
       "| Adam Keefe   | C | three_PA_per_MP | -0.94960822 |\n",
       "| Adam Keefe   | C | PF_per_MP       |  0.94805899 |\n",
       "| Adam Keefe   | C | weight          |  0.38363158 |\n",
       "| Adam Keefe   | C | height          |  0.56604009 |\n",
       "| Adonal Foyle | C | BLK_per_MP      |  3.01753671 |\n",
       "| Adonal Foyle | C | AST_per_MP      | -0.88646129 |\n",
       "| Adonal Foyle | C | TRB_per_MP      |  1.02072414 |\n",
       "| Adonal Foyle | C | STL_per_MP      | -0.59746878 |\n",
       "| Adonal Foyle | C | three_PA_per_MP | -0.97298085 |\n",
       "| Adonal Foyle | C | PF_per_MP       |  0.28344749 |\n",
       "| Adonal Foyle | C | weight          |  1.13293047 |\n",
       "| Adonal Foyle | C | height          |  0.85212859 |\n",
       "| Al Horford   | C | BLK_per_MP      |  0.60161673 |\n",
       "| Al Horford   | C | AST_per_MP      |  0.10739498 |\n",
       "| Al Horford   | C | TRB_per_MP      |  1.13334485 |\n",
       "| Al Horford   | C | STL_per_MP      | -0.32321829 |\n",
       "| Al Horford   | C | three_PA_per_MP | -0.91637682 |\n",
       "| Al Horford   | C | PF_per_MP       | -0.64943406 |\n",
       "| ⋮ | ⋮ | ⋮ | ⋮ |\n",
       "| Wilson Chandler  | SG | TRB_per_MP      | -0.265114813 |\n",
       "| Wilson Chandler  | SG | STL_per_MP      | -0.602244616 |\n",
       "| Wilson Chandler  | SG | three_PA_per_MP | -0.012481902 |\n",
       "| Wilson Chandler  | SG | PF_per_MP       | -0.535607415 |\n",
       "| Wilson Chandler  | SG | weight          |  0.196306855 |\n",
       "| Wilson Chandler  | SG | height          |  0.279951588 |\n",
       "| Xavier Henry     | SG | BLK_per_MP      | -0.462249393 |\n",
       "| Xavier Henry     | SG | AST_per_MP      | -0.608541029 |\n",
       "| Xavier Henry     | SG | TRB_per_MP      | -0.709331111 |\n",
       "| Xavier Henry     | SG | STL_per_MP      | -0.097736845 |\n",
       "| Xavier Henry     | SG | three_PA_per_MP | -0.580958797 |\n",
       "| Xavier Henry     | SG | PF_per_MP       | -0.452726539 |\n",
       "| Xavier Henry     | SG | weight          |  0.008982132 |\n",
       "| Xavier Henry     | SG | height          | -0.292225416 |\n",
       "| Xavier Silas     | SG | BLK_per_MP      | -0.813399810 |\n",
       "| Xavier Silas     | SG | AST_per_MP      |  0.061853687 |\n",
       "| Xavier Silas     | SG | TRB_per_MP      | -0.808167583 |\n",
       "| Xavier Silas     | SG | STL_per_MP      | -1.720692441 |\n",
       "| Xavier Silas     | SG | three_PA_per_MP |  1.314245434 |\n",
       "| Xavier Silas     | SG | PF_per_MP       |  0.505245122 |\n",
       "| Xavier Silas     | SG | weight          | -0.552992038 |\n",
       "| Xavier Silas     | SG | height          | -0.578313918 |\n",
       "| Yakhouba Diawara | SG | BLK_per_MP      | -0.580542884 |\n",
       "| Yakhouba Diawara | SG | AST_per_MP      | -0.370639062 |\n",
       "| Yakhouba Diawara | SG | TRB_per_MP      | -0.839469853 |\n",
       "| Yakhouba Diawara | SG | STL_per_MP      | -0.472854527 |\n",
       "| Yakhouba Diawara | SG | three_PA_per_MP |  1.067613864 |\n",
       "| Yakhouba Diawara | SG | PF_per_MP       |  0.203069394 |\n",
       "| Yakhouba Diawara | SG | weight          |  0.196306855 |\n",
       "| Yakhouba Diawara | SG | height          | -0.006136914 |\n",
       "\n"
      ],
      "text/plain": [
       "      name             pos key             value       \n",
       "1     Aaron Gray       C   BLK_per_MP       0.14997935 \n",
       "2     Aaron Gray       C   AST_per_MP      -0.33905426 \n",
       "3     Aaron Gray       C   TRB_per_MP       1.58364439 \n",
       "4     Aaron Gray       C   STL_per_MP      -0.30953901 \n",
       "5     Aaron Gray       C   three_PA_per_MP -0.96106335 \n",
       "6     Aaron Gray       C   PF_per_MP        1.52743366 \n",
       "7     Aaron Gray       C   weight           1.88222936 \n",
       "8     Aaron Gray       C   height           1.42430559 \n",
       "9     Adam Keefe       C   BLK_per_MP       0.07018428 \n",
       "10    Adam Keefe       C   AST_per_MP      -0.32547111 \n",
       "11    Adam Keefe       C   TRB_per_MP       0.59539103 \n",
       "12    Adam Keefe       C   STL_per_MP      -0.13303112 \n",
       "13    Adam Keefe       C   three_PA_per_MP -0.94960822 \n",
       "14    Adam Keefe       C   PF_per_MP        0.94805899 \n",
       "15    Adam Keefe       C   weight           0.38363158 \n",
       "16    Adam Keefe       C   height           0.56604009 \n",
       "17    Adonal Foyle     C   BLK_per_MP       3.01753671 \n",
       "18    Adonal Foyle     C   AST_per_MP      -0.88646129 \n",
       "19    Adonal Foyle     C   TRB_per_MP       1.02072414 \n",
       "20    Adonal Foyle     C   STL_per_MP      -0.59746878 \n",
       "21    Adonal Foyle     C   three_PA_per_MP -0.97298085 \n",
       "22    Adonal Foyle     C   PF_per_MP        0.28344749 \n",
       "23    Adonal Foyle     C   weight           1.13293047 \n",
       "24    Adonal Foyle     C   height           0.85212859 \n",
       "25    Al Horford       C   BLK_per_MP       0.60161673 \n",
       "26    Al Horford       C   AST_per_MP       0.10739498 \n",
       "27    Al Horford       C   TRB_per_MP       1.13334485 \n",
       "28    Al Horford       C   STL_per_MP      -0.32321829 \n",
       "29    Al Horford       C   three_PA_per_MP -0.91637682 \n",
       "30    Al Horford       C   PF_per_MP       -0.64943406 \n",
       "⋮     ⋮                ⋮   ⋮               ⋮           \n",
       "12651 Wilson Chandler  SG  TRB_per_MP      -0.265114813\n",
       "12652 Wilson Chandler  SG  STL_per_MP      -0.602244616\n",
       "12653 Wilson Chandler  SG  three_PA_per_MP -0.012481902\n",
       "12654 Wilson Chandler  SG  PF_per_MP       -0.535607415\n",
       "12655 Wilson Chandler  SG  weight           0.196306855\n",
       "12656 Wilson Chandler  SG  height           0.279951588\n",
       "12657 Xavier Henry     SG  BLK_per_MP      -0.462249393\n",
       "12658 Xavier Henry     SG  AST_per_MP      -0.608541029\n",
       "12659 Xavier Henry     SG  TRB_per_MP      -0.709331111\n",
       "12660 Xavier Henry     SG  STL_per_MP      -0.097736845\n",
       "12661 Xavier Henry     SG  three_PA_per_MP -0.580958797\n",
       "12662 Xavier Henry     SG  PF_per_MP       -0.452726539\n",
       "12663 Xavier Henry     SG  weight           0.008982132\n",
       "12664 Xavier Henry     SG  height          -0.292225416\n",
       "12665 Xavier Silas     SG  BLK_per_MP      -0.813399810\n",
       "12666 Xavier Silas     SG  AST_per_MP       0.061853687\n",
       "12667 Xavier Silas     SG  TRB_per_MP      -0.808167583\n",
       "12668 Xavier Silas     SG  STL_per_MP      -1.720692441\n",
       "12669 Xavier Silas     SG  three_PA_per_MP  1.314245434\n",
       "12670 Xavier Silas     SG  PF_per_MP        0.505245122\n",
       "12671 Xavier Silas     SG  weight          -0.552992038\n",
       "12672 Xavier Silas     SG  height          -0.578313918\n",
       "12673 Yakhouba Diawara SG  BLK_per_MP      -0.580542884\n",
       "12674 Yakhouba Diawara SG  AST_per_MP      -0.370639062\n",
       "12675 Yakhouba Diawara SG  TRB_per_MP      -0.839469853\n",
       "12676 Yakhouba Diawara SG  STL_per_MP      -0.472854527\n",
       "12677 Yakhouba Diawara SG  three_PA_per_MP  1.067613864\n",
       "12678 Yakhouba Diawara SG  PF_per_MP        0.203069394\n",
       "12679 Yakhouba Diawara SG  weight           0.196306855\n",
       "12680 Yakhouba Diawara SG  height          -0.006136914"
      ]
     },
     "metadata": {},
     "output_type": "display_data"
    }
   ],
   "source": [
    "player_train |> \n",
    "    mutate(across(where(is.numeric), scale)) |>\n",
    "    pivot_longer(3:10, names_to = \"key\", values_to = \"value\")"
   ]
  },
  {
   "cell_type": "code",
   "execution_count": 28,
   "id": "22f65b96-848e-44d9-b229-265add9578a3",
   "metadata": {
    "tags": []
   },
   "outputs": [
    {
     "ename": "ERROR",
     "evalue": "Error in mutate(player_train, across(where(is.numeric), scale)): object 'player_train' not found\n",
     "output_type": "error",
     "traceback": [
      "Error in mutate(player_train, across(where(is.numeric), scale)): object 'player_train' not found\nTraceback:\n",
      "1. ggplot(filter(pivot_longer(mutate(player_train, across(where(is.numeric), \n .     scale)), 3:10, names_to = \"key\", values_to = \"value\"), value < \n .     3 & value > -3), aes(x = value, fill = pos))",
      "2. filter(pivot_longer(mutate(player_train, across(where(is.numeric), \n .     scale)), 3:10, names_to = \"key\", values_to = \"value\"), value < \n .     3 & value > -3)",
      "3. pivot_longer(mutate(player_train, across(where(is.numeric), scale)), \n .     3:10, names_to = \"key\", values_to = \"value\")",
      "4. mutate(player_train, across(where(is.numeric), scale))"
     ]
    }
   ],
   "source": [
    "options(repr.plot.width = 18, repr.plot.height = 15)\n",
    "\n",
    "# OPTIONAL :     # select(!height & !weight) |>\n",
    "player_train |> \n",
    "    mutate(across(where(is.numeric), scale)) |>\n",
    "    pivot_longer(3:10, names_to = \"key\", values_to = \"value\") |>\n",
    "    filter(value < 3 & value > -3) |>\n",
    "    ggplot(aes(x = value, fill = pos)) +\n",
    "    geom_histogram(bins = 25, alpha = 0.75) +\n",
    "    labs(x = \"Predictor Variable (scaled)\", y = \"Frequency (count)\", title=\"Scaled Season Statistics Predictors by Position\", fill = \"Position\") +\n",
    "    facet_wrap(~key, ncol = 2, scale = \"free_y\") +\n",
    "    scale_fill_viridis(discrete=TRUE) +\n",
    "    theme(text = element_text(size = 18))"
   ]
  },
  {
   "cell_type": "markdown",
   "id": "26e45ea5-0fee-4c2a-a363-d47274a101a5",
   "metadata": {},
   "source": [
    "### Next"
   ]
  },
  {
   "cell_type": "markdown",
   "id": "48bf09ea-82ef-4ec2-a3d2-5256c71c8bff",
   "metadata": {
    "jp-MarkdownHeadingCollapsed": true,
    "tags": []
   },
   "source": [
    "## Initial Clasification Model"
   ]
  },
  {
   "cell_type": "code",
   "execution_count": null,
   "id": "0d634ee9-e81b-4474-b2a1-89a554689ce9",
   "metadata": {},
   "outputs": [],
   "source": [
    "ball_recipe1 <- recipe(pos ~ BLK_per_MP + AST_per_MP + TRB_per_MP + three_PA_per_MP + weight + height, \n",
    "                       data = player_train) |>\n",
    "    step_center(all_predictors()) |>\n",
    "    step_scale(all_predictors())\n",
    "\n",
    "\n",
    "ks <- tibble(neighbors = seq(from = 80, to = 100, by = 1))\n",
    "\n",
    "ball_vfold1 <- vfold_cv(player_train, v = 5, strata = pos)\n",
    "\n",
    "ball_spec1 <- nearest_neighbor(weight_func = \"rectangular\", neighbors = tune()) |>\n",
    "    set_engine(\"kknn\") |>\n",
    "    set_mode(\"classification\")\n",
    "\n",
    "ball_fit1 <- workflow() |>\n",
    "    add_recipe(ball_recipe1) |>\n",
    "    add_model(ball_spec1) |>\n",
    "    tune_grid(resamples = ball_vfold1, grid = ks) |>\n",
    "    collect_metrics()\n",
    "\n",
    "ball_fit1"
   ]
  },
  {
   "cell_type": "code",
   "execution_count": null,
   "id": "f2867133-0ad0-49be-bb40-776c7cf12a9c",
   "metadata": {},
   "outputs": [],
   "source": []
  },
  {
   "cell_type": "code",
   "execution_count": null,
   "id": "c391c739-8d0f-4b64-9425-723448c653fe",
   "metadata": {},
   "outputs": [],
   "source": []
  },
  {
   "cell_type": "code",
   "execution_count": null,
   "id": "351d84c7-4e5e-48d5-9f56-e1f428011fc1",
   "metadata": {},
   "outputs": [],
   "source": []
  },
  {
   "cell_type": "code",
   "execution_count": null,
   "id": "bca759cc-8916-40d4-8ab4-5106b7ec86e8",
   "metadata": {},
   "outputs": [],
   "source": []
  },
  {
   "cell_type": "markdown",
   "id": "79d4303a-f54c-4902-a8a6-41fac8cc7c79",
   "metadata": {
    "jp-MarkdownHeadingCollapsed": true,
    "tags": []
   },
   "source": [
    "## Second Classification Model"
   ]
  },
  {
   "cell_type": "code",
   "execution_count": 56,
   "id": "63a36181-af90-458f-a4ac-2aed83e80e12",
   "metadata": {},
   "outputs": [],
   "source": [
    "guard_or_forward <- function (position) {\n",
    "    print(position)\n",
    "    if (toString(position) %in% c(\"C\", \"SF\", \"PF\")) {\n",
    "        return(\"F\")\n",
    "    } else {\n",
    "        return(\"G\")\n",
    "    }\n",
    "}\n",
    "\n",
    "player_train |>\n",
    "    rowwise() |>\n",
    "    mutate(x = guard_or_forward(pos)) |>\n",
    "    mutate(pos = as_factor(pos))"
   ]
  },
  {
   "cell_type": "code",
   "execution_count": 44,
   "id": "16c62d48-be47-4da3-91c9-5d97d2b21d77",
   "metadata": {},
   "outputs": [
    {
     "data": {
      "text/html": [
       "<table class=\"dataframe\">\n",
       "<caption>A data.frame: 6 × 10</caption>\n",
       "<thead>\n",
       "\t<tr><th></th><th scope=col>name</th><th scope=col>pos</th><th scope=col>BLK_per_MP</th><th scope=col>AST_per_MP</th><th scope=col>TRB_per_MP</th><th scope=col>STL_per_MP</th><th scope=col>three_PA_per_MP</th><th scope=col>PF_per_MP</th><th scope=col>weight</th><th scope=col>height</th></tr>\n",
       "\t<tr><th></th><th scope=col>&lt;chr&gt;</th><th scope=col>&lt;fct&gt;</th><th scope=col>&lt;dbl&gt;</th><th scope=col>&lt;dbl&gt;</th><th scope=col>&lt;dbl&gt;</th><th scope=col>&lt;dbl&gt;</th><th scope=col>&lt;dbl&gt;</th><th scope=col>&lt;dbl&gt;</th><th scope=col>&lt;dbl&gt;</th><th scope=col>&lt;dbl&gt;</th></tr>\n",
       "</thead>\n",
       "<tbody>\n",
       "\t<tr><th scope=row>8</th><td>Aaron Gray          </td><td>C</td><td>0.02346690</td><td>0.05556785</td><td>0.3114899</td><td>0.02501660</td><td>8.855435e-04</td><td>0.17622316</td><td>270</td><td>84</td></tr>\n",
       "\t<tr><th scope=row>18</th><td>Adam Keefe          </td><td>C</td><td>0.02152318</td><td>0.05629139</td><td>0.2251656</td><td>0.02814570</td><td>1.655629e-03</td><td>0.14900662</td><td>230</td><td>81</td></tr>\n",
       "\t<tr><th scope=row>21</th><td>Adonal Foyle        </td><td>C</td><td>0.09331758</td><td>0.02640904</td><td>0.2623186</td><td>0.01991225</td><td>8.437395e-05</td><td>0.11778603</td><td>250</td><td>82</td></tr>\n",
       "\t<tr><th scope=row>29</th><td>Al Horford          </td><td>C</td><td>0.03446831</td><td>0.07934893</td><td>0.2721561</td><td>0.02477410</td><td>3.889654e-03</td><td>0.07396326</td><td>245</td><td>82</td></tr>\n",
       "\t<tr><th scope=row>38</th><td>Alan Henderson      </td><td>C</td><td>0.02172840</td><td>0.02518519</td><td>0.2641975</td><td>0.02074074</td><td>9.876543e-04</td><td>0.11160494</td><td>235</td><td>81</td></tr>\n",
       "\t<tr><th scope=row>42</th><td>Aleksandar Radojevic</td><td>C</td><td>0.01973684</td><td>0.04605263</td><td>0.2368421</td><td>0.01315789</td><td>0.000000e+00</td><td>0.24342105</td><td>250</td><td>87</td></tr>\n",
       "</tbody>\n",
       "</table>\n"
      ],
      "text/latex": [
       "A data.frame: 6 × 10\n",
       "\\begin{tabular}{r|llllllllll}\n",
       "  & name & pos & BLK\\_per\\_MP & AST\\_per\\_MP & TRB\\_per\\_MP & STL\\_per\\_MP & three\\_PA\\_per\\_MP & PF\\_per\\_MP & weight & height\\\\\n",
       "  & <chr> & <fct> & <dbl> & <dbl> & <dbl> & <dbl> & <dbl> & <dbl> & <dbl> & <dbl>\\\\\n",
       "\\hline\n",
       "\t8 & Aaron Gray           & C & 0.02346690 & 0.05556785 & 0.3114899 & 0.02501660 & 8.855435e-04 & 0.17622316 & 270 & 84\\\\\n",
       "\t18 & Adam Keefe           & C & 0.02152318 & 0.05629139 & 0.2251656 & 0.02814570 & 1.655629e-03 & 0.14900662 & 230 & 81\\\\\n",
       "\t21 & Adonal Foyle         & C & 0.09331758 & 0.02640904 & 0.2623186 & 0.01991225 & 8.437395e-05 & 0.11778603 & 250 & 82\\\\\n",
       "\t29 & Al Horford           & C & 0.03446831 & 0.07934893 & 0.2721561 & 0.02477410 & 3.889654e-03 & 0.07396326 & 245 & 82\\\\\n",
       "\t38 & Alan Henderson       & C & 0.02172840 & 0.02518519 & 0.2641975 & 0.02074074 & 9.876543e-04 & 0.11160494 & 235 & 81\\\\\n",
       "\t42 & Aleksandar Radojevic & C & 0.01973684 & 0.04605263 & 0.2368421 & 0.01315789 & 0.000000e+00 & 0.24342105 & 250 & 87\\\\\n",
       "\\end{tabular}\n"
      ],
      "text/markdown": [
       "\n",
       "A data.frame: 6 × 10\n",
       "\n",
       "| <!--/--> | name &lt;chr&gt; | pos &lt;fct&gt; | BLK_per_MP &lt;dbl&gt; | AST_per_MP &lt;dbl&gt; | TRB_per_MP &lt;dbl&gt; | STL_per_MP &lt;dbl&gt; | three_PA_per_MP &lt;dbl&gt; | PF_per_MP &lt;dbl&gt; | weight &lt;dbl&gt; | height &lt;dbl&gt; |\n",
       "|---|---|---|---|---|---|---|---|---|---|---|\n",
       "| 8 | Aaron Gray           | C | 0.02346690 | 0.05556785 | 0.3114899 | 0.02501660 | 8.855435e-04 | 0.17622316 | 270 | 84 |\n",
       "| 18 | Adam Keefe           | C | 0.02152318 | 0.05629139 | 0.2251656 | 0.02814570 | 1.655629e-03 | 0.14900662 | 230 | 81 |\n",
       "| 21 | Adonal Foyle         | C | 0.09331758 | 0.02640904 | 0.2623186 | 0.01991225 | 8.437395e-05 | 0.11778603 | 250 | 82 |\n",
       "| 29 | Al Horford           | C | 0.03446831 | 0.07934893 | 0.2721561 | 0.02477410 | 3.889654e-03 | 0.07396326 | 245 | 82 |\n",
       "| 38 | Alan Henderson       | C | 0.02172840 | 0.02518519 | 0.2641975 | 0.02074074 | 9.876543e-04 | 0.11160494 | 235 | 81 |\n",
       "| 42 | Aleksandar Radojevic | C | 0.01973684 | 0.04605263 | 0.2368421 | 0.01315789 | 0.000000e+00 | 0.24342105 | 250 | 87 |\n",
       "\n"
      ],
      "text/plain": [
       "   name                 pos BLK_per_MP AST_per_MP TRB_per_MP STL_per_MP\n",
       "8  Aaron Gray           C   0.02346690 0.05556785 0.3114899  0.02501660\n",
       "18 Adam Keefe           C   0.02152318 0.05629139 0.2251656  0.02814570\n",
       "21 Adonal Foyle         C   0.09331758 0.02640904 0.2623186  0.01991225\n",
       "29 Al Horford           C   0.03446831 0.07934893 0.2721561  0.02477410\n",
       "38 Alan Henderson       C   0.02172840 0.02518519 0.2641975  0.02074074\n",
       "42 Aleksandar Radojevic C   0.01973684 0.04605263 0.2368421  0.01315789\n",
       "   three_PA_per_MP PF_per_MP  weight height\n",
       "8  8.855435e-04    0.17622316 270    84    \n",
       "18 1.655629e-03    0.14900662 230    81    \n",
       "21 8.437395e-05    0.11778603 250    82    \n",
       "29 3.889654e-03    0.07396326 245    82    \n",
       "38 9.876543e-04    0.11160494 235    81    \n",
       "42 0.000000e+00    0.24342105 250    87    "
      ]
     },
     "metadata": {},
     "output_type": "display_data"
    }
   ],
   "source": [
    "head(player_train)"
   ]
  },
  {
   "cell_type": "code",
   "execution_count": 72,
   "id": "ff625b77-f850-4855-9af0-71f2684ac5e3",
   "metadata": {},
   "outputs": [],
   "source": [
    "forwards <- player_train |>\n",
    "    filter(pos %in% c(\"C\", \"SF\", \"PF\")) |>\n",
    "    mutate(pos = \"G\")\n",
    "\n",
    "guards <- player_train |>\n",
    "    filter(pos %in% c(\"PG\", \"SG\")) |>\n",
    "    mutate(pos = \"F\")\n",
    "\n",
    "f_g_data <- rbind(forwards, guards)"
   ]
  },
  {
   "cell_type": "code",
   "execution_count": 71,
   "id": "b0a0bf71-80cf-4e17-98e9-58ba33b289c8",
   "metadata": {
    "tags": []
   },
   "outputs": [],
   "source": [
    "ball_recipe1 <- recipe(pos ~ BLK_per_MP + AST_per_MP + TRB_per_MP + three_PA_per_MP + weight + height, \n",
    "                       data = f_g_data) |>\n",
    "    step_center(all_predictors()) |>\n",
    "    step_scale(all_predictors())\n",
    "\n",
    "\n",
    "ks <- tibble(neighbors = seq(from = 2, to = 150, by = 1))\n",
    "\n",
    "ball_vfold1 <- vfold_cv(f_g_data, v = 5, strata = pos)\n",
    "\n",
    "ball_spec1 <- nearest_neighbor(weight_func = \"rectangular\", neighbors = tune()) |>\n",
    "    set_engine(\"kknn\") |>\n",
    "    set_mode(\"classification\")\n",
    "\n",
    "ball_fit1 <- workflow() |>\n",
    "    add_recipe(ball_recipe1) |>\n",
    "    add_model(ball_spec1) |>\n",
    "    tune_grid(resamples = ball_vfold1, grid = ks) |>\n",
    "    collect_metrics()\n",
    "\n"
   ]
  },
  {
   "cell_type": "code",
   "execution_count": 75,
   "id": "a3bcd2a0-6aed-40db-87f6-fd5320ac5f89",
   "metadata": {},
   "outputs": [
    {
     "data": {
      "text/html": [
       "<table class=\"dataframe\">\n",
       "<caption>A tibble: 298 × 7</caption>\n",
       "<thead>\n",
       "\t<tr><th scope=col>neighbors</th><th scope=col>.metric</th><th scope=col>.estimator</th><th scope=col>mean</th><th scope=col>n</th><th scope=col>std_err</th><th scope=col>.config</th></tr>\n",
       "\t<tr><th scope=col>&lt;dbl&gt;</th><th scope=col>&lt;chr&gt;</th><th scope=col>&lt;chr&gt;</th><th scope=col>&lt;dbl&gt;</th><th scope=col>&lt;int&gt;</th><th scope=col>&lt;dbl&gt;</th><th scope=col>&lt;chr&gt;</th></tr>\n",
       "</thead>\n",
       "<tbody>\n",
       "\t<tr><td> 2</td><td>accuracy</td><td>binary</td><td>0.8454259</td><td>5</td><td>0.0104625388</td><td>Preprocessor1_Model001</td></tr>\n",
       "\t<tr><td> 2</td><td>roc_auc </td><td>binary</td><td>0.8999211</td><td>5</td><td>0.0070450402</td><td>Preprocessor1_Model001</td></tr>\n",
       "\t<tr><td> 3</td><td>accuracy</td><td>binary</td><td>0.8744479</td><td>5</td><td>0.0090553313</td><td>Preprocessor1_Model002</td></tr>\n",
       "\t<tr><td> 3</td><td>roc_auc </td><td>binary</td><td>0.9230325</td><td>5</td><td>0.0031075916</td><td>Preprocessor1_Model002</td></tr>\n",
       "\t<tr><td> 4</td><td>accuracy</td><td>binary</td><td>0.8744479</td><td>5</td><td>0.0090553313</td><td>Preprocessor1_Model003</td></tr>\n",
       "\t<tr><td> 4</td><td>roc_auc </td><td>binary</td><td>0.9377420</td><td>5</td><td>0.0037115073</td><td>Preprocessor1_Model003</td></tr>\n",
       "\t<tr><td> 5</td><td>accuracy</td><td>binary</td><td>0.8794953</td><td>5</td><td>0.0072211502</td><td>Preprocessor1_Model004</td></tr>\n",
       "\t<tr><td> 5</td><td>roc_auc </td><td>binary</td><td>0.9435718</td><td>5</td><td>0.0038846270</td><td>Preprocessor1_Model004</td></tr>\n",
       "\t<tr><td> 6</td><td>accuracy</td><td>binary</td><td>0.8794953</td><td>5</td><td>0.0072211502</td><td>Preprocessor1_Model005</td></tr>\n",
       "\t<tr><td> 6</td><td>roc_auc </td><td>binary</td><td>0.9484459</td><td>5</td><td>0.0045957149</td><td>Preprocessor1_Model005</td></tr>\n",
       "\t<tr><td> 7</td><td>accuracy</td><td>binary</td><td>0.8902208</td><td>5</td><td>0.0070113914</td><td>Preprocessor1_Model006</td></tr>\n",
       "\t<tr><td> 7</td><td>roc_auc </td><td>binary</td><td>0.9518491</td><td>5</td><td>0.0051224164</td><td>Preprocessor1_Model006</td></tr>\n",
       "\t<tr><td> 8</td><td>accuracy</td><td>binary</td><td>0.8902208</td><td>5</td><td>0.0070113914</td><td>Preprocessor1_Model007</td></tr>\n",
       "\t<tr><td> 8</td><td>roc_auc </td><td>binary</td><td>0.9542093</td><td>5</td><td>0.0035568403</td><td>Preprocessor1_Model007</td></tr>\n",
       "\t<tr><td> 9</td><td>accuracy</td><td>binary</td><td>0.8927445</td><td>5</td><td>0.0054638827</td><td>Preprocessor1_Model008</td></tr>\n",
       "\t<tr><td> 9</td><td>roc_auc </td><td>binary</td><td>0.9577412</td><td>5</td><td>0.0030284472</td><td>Preprocessor1_Model008</td></tr>\n",
       "\t<tr><td>10</td><td>accuracy</td><td>binary</td><td>0.8927445</td><td>5</td><td>0.0054638827</td><td>Preprocessor1_Model009</td></tr>\n",
       "\t<tr><td>10</td><td>roc_auc </td><td>binary</td><td>0.9599934</td><td>5</td><td>0.0031150347</td><td>Preprocessor1_Model009</td></tr>\n",
       "\t<tr><td>11</td><td>accuracy</td><td>binary</td><td>0.8902208</td><td>5</td><td>0.0061816776</td><td>Preprocessor1_Model010</td></tr>\n",
       "\t<tr><td>11</td><td>roc_auc </td><td>binary</td><td>0.9619089</td><td>5</td><td>0.0028722717</td><td>Preprocessor1_Model010</td></tr>\n",
       "\t<tr><td>12</td><td>accuracy</td><td>binary</td><td>0.8902208</td><td>5</td><td>0.0061816776</td><td>Preprocessor1_Model011</td></tr>\n",
       "\t<tr><td>12</td><td>roc_auc </td><td>binary</td><td>0.9620336</td><td>5</td><td>0.0022900103</td><td>Preprocessor1_Model011</td></tr>\n",
       "\t<tr><td>13</td><td>accuracy</td><td>binary</td><td>0.8908517</td><td>5</td><td>0.0050473186</td><td>Preprocessor1_Model012</td></tr>\n",
       "\t<tr><td>13</td><td>roc_auc </td><td>binary</td><td>0.9623577</td><td>5</td><td>0.0021059463</td><td>Preprocessor1_Model012</td></tr>\n",
       "\t<tr><td>14</td><td>accuracy</td><td>binary</td><td>0.8908517</td><td>5</td><td>0.0050473186</td><td>Preprocessor1_Model013</td></tr>\n",
       "\t<tr><td>14</td><td>roc_auc </td><td>binary</td><td>0.9639491</td><td>5</td><td>0.0019067344</td><td>Preprocessor1_Model013</td></tr>\n",
       "\t<tr><td>15</td><td>accuracy</td><td>binary</td><td>0.8927445</td><td>5</td><td>0.0066170905</td><td>Preprocessor1_Model014</td></tr>\n",
       "\t<tr><td>15</td><td>roc_auc </td><td>binary</td><td>0.9644187</td><td>5</td><td>0.0016552725</td><td>Preprocessor1_Model014</td></tr>\n",
       "\t<tr><td>16</td><td>accuracy</td><td>binary</td><td>0.8927445</td><td>5</td><td>0.0066170905</td><td>Preprocessor1_Model015</td></tr>\n",
       "\t<tr><td>16</td><td>roc_auc </td><td>binary</td><td>0.9650586</td><td>5</td><td>0.0009229965</td><td>Preprocessor1_Model015</td></tr>\n",
       "\t<tr><td>⋮</td><td>⋮</td><td>⋮</td><td>⋮</td><td>⋮</td><td>⋮</td><td>⋮</td></tr>\n",
       "\t<tr><td>136</td><td>accuracy</td><td>binary</td><td>0.9034700</td><td>5</td><td>0.002925432</td><td>Preprocessor1_Model135</td></tr>\n",
       "\t<tr><td>136</td><td>roc_auc </td><td>binary</td><td>0.9708925</td><td>5</td><td>0.001731880</td><td>Preprocessor1_Model135</td></tr>\n",
       "\t<tr><td>137</td><td>accuracy</td><td>binary</td><td>0.9034700</td><td>5</td><td>0.003811686</td><td>Preprocessor1_Model136</td></tr>\n",
       "\t<tr><td>137</td><td>roc_auc </td><td>binary</td><td>0.9708967</td><td>5</td><td>0.001695641</td><td>Preprocessor1_Model136</td></tr>\n",
       "\t<tr><td>138</td><td>accuracy</td><td>binary</td><td>0.9034700</td><td>5</td><td>0.003811686</td><td>Preprocessor1_Model137</td></tr>\n",
       "\t<tr><td>138</td><td>roc_auc </td><td>binary</td><td>0.9707804</td><td>5</td><td>0.001698085</td><td>Preprocessor1_Model137</td></tr>\n",
       "\t<tr><td>139</td><td>accuracy</td><td>binary</td><td>0.9047319</td><td>5</td><td>0.004039826</td><td>Preprocessor1_Model138</td></tr>\n",
       "\t<tr><td>139</td><td>roc_auc </td><td>binary</td><td>0.9706432</td><td>5</td><td>0.001706117</td><td>Preprocessor1_Model138</td></tr>\n",
       "\t<tr><td>140</td><td>accuracy</td><td>binary</td><td>0.9047319</td><td>5</td><td>0.004039826</td><td>Preprocessor1_Model139</td></tr>\n",
       "\t<tr><td>140</td><td>roc_auc </td><td>binary</td><td>0.9706349</td><td>5</td><td>0.001679953</td><td>Preprocessor1_Model139</td></tr>\n",
       "\t<tr><td>141</td><td>accuracy</td><td>binary</td><td>0.9053628</td><td>5</td><td>0.003455663</td><td>Preprocessor1_Model140</td></tr>\n",
       "\t<tr><td>141</td><td>roc_auc </td><td>binary</td><td>0.9707388</td><td>5</td><td>0.001688232</td><td>Preprocessor1_Model140</td></tr>\n",
       "\t<tr><td>142</td><td>accuracy</td><td>binary</td><td>0.9053628</td><td>5</td><td>0.003455663</td><td>Preprocessor1_Model141</td></tr>\n",
       "\t<tr><td>142</td><td>roc_auc </td><td>binary</td><td>0.9707637</td><td>5</td><td>0.001682672</td><td>Preprocessor1_Model141</td></tr>\n",
       "\t<tr><td>143</td><td>accuracy</td><td>binary</td><td>0.9028391</td><td>5</td><td>0.005027564</td><td>Preprocessor1_Model142</td></tr>\n",
       "\t<tr><td>143</td><td>roc_auc </td><td>binary</td><td>0.9707887</td><td>5</td><td>0.001671251</td><td>Preprocessor1_Model142</td></tr>\n",
       "\t<tr><td>144</td><td>accuracy</td><td>binary</td><td>0.9028391</td><td>5</td><td>0.005027564</td><td>Preprocessor1_Model143</td></tr>\n",
       "\t<tr><td>144</td><td>roc_auc </td><td>binary</td><td>0.9707928</td><td>5</td><td>0.001710821</td><td>Preprocessor1_Model143</td></tr>\n",
       "\t<tr><td>145</td><td>accuracy</td><td>binary</td><td>0.9034700</td><td>5</td><td>0.005047319</td><td>Preprocessor1_Model144</td></tr>\n",
       "\t<tr><td>145</td><td>roc_auc </td><td>binary</td><td>0.9706557</td><td>5</td><td>0.001687350</td><td>Preprocessor1_Model144</td></tr>\n",
       "\t<tr><td>146</td><td>accuracy</td><td>binary</td><td>0.9034700</td><td>5</td><td>0.005047319</td><td>Preprocessor1_Model145</td></tr>\n",
       "\t<tr><td>146</td><td>roc_auc </td><td>binary</td><td>0.9705477</td><td>5</td><td>0.001713924</td><td>Preprocessor1_Model145</td></tr>\n",
       "\t<tr><td>147</td><td>accuracy</td><td>binary</td><td>0.9028391</td><td>5</td><td>0.004721334</td><td>Preprocessor1_Model146</td></tr>\n",
       "\t<tr><td>147</td><td>roc_auc </td><td>binary</td><td>0.9705061</td><td>5</td><td>0.001760304</td><td>Preprocessor1_Model146</td></tr>\n",
       "\t<tr><td>148</td><td>accuracy</td><td>binary</td><td>0.9028391</td><td>5</td><td>0.004721334</td><td>Preprocessor1_Model147</td></tr>\n",
       "\t<tr><td>148</td><td>roc_auc </td><td>binary</td><td>0.9705809</td><td>5</td><td>0.001680190</td><td>Preprocessor1_Model147</td></tr>\n",
       "\t<tr><td>149</td><td>accuracy</td><td>binary</td><td>0.9034700</td><td>5</td><td>0.004527666</td><td>Preprocessor1_Model148</td></tr>\n",
       "\t<tr><td>149</td><td>roc_auc </td><td>binary</td><td>0.9705560</td><td>5</td><td>0.001695081</td><td>Preprocessor1_Model148</td></tr>\n",
       "\t<tr><td>150</td><td>accuracy</td><td>binary</td><td>0.9034700</td><td>5</td><td>0.004527666</td><td>Preprocessor1_Model149</td></tr>\n",
       "\t<tr><td>150</td><td>roc_auc </td><td>binary</td><td>0.9706058</td><td>5</td><td>0.001720508</td><td>Preprocessor1_Model149</td></tr>\n",
       "</tbody>\n",
       "</table>\n"
      ],
      "text/latex": [
       "A tibble: 298 × 7\n",
       "\\begin{tabular}{lllllll}\n",
       " neighbors & .metric & .estimator & mean & n & std\\_err & .config\\\\\n",
       " <dbl> & <chr> & <chr> & <dbl> & <int> & <dbl> & <chr>\\\\\n",
       "\\hline\n",
       "\t  2 & accuracy & binary & 0.8454259 & 5 & 0.0104625388 & Preprocessor1\\_Model001\\\\\n",
       "\t  2 & roc\\_auc  & binary & 0.8999211 & 5 & 0.0070450402 & Preprocessor1\\_Model001\\\\\n",
       "\t  3 & accuracy & binary & 0.8744479 & 5 & 0.0090553313 & Preprocessor1\\_Model002\\\\\n",
       "\t  3 & roc\\_auc  & binary & 0.9230325 & 5 & 0.0031075916 & Preprocessor1\\_Model002\\\\\n",
       "\t  4 & accuracy & binary & 0.8744479 & 5 & 0.0090553313 & Preprocessor1\\_Model003\\\\\n",
       "\t  4 & roc\\_auc  & binary & 0.9377420 & 5 & 0.0037115073 & Preprocessor1\\_Model003\\\\\n",
       "\t  5 & accuracy & binary & 0.8794953 & 5 & 0.0072211502 & Preprocessor1\\_Model004\\\\\n",
       "\t  5 & roc\\_auc  & binary & 0.9435718 & 5 & 0.0038846270 & Preprocessor1\\_Model004\\\\\n",
       "\t  6 & accuracy & binary & 0.8794953 & 5 & 0.0072211502 & Preprocessor1\\_Model005\\\\\n",
       "\t  6 & roc\\_auc  & binary & 0.9484459 & 5 & 0.0045957149 & Preprocessor1\\_Model005\\\\\n",
       "\t  7 & accuracy & binary & 0.8902208 & 5 & 0.0070113914 & Preprocessor1\\_Model006\\\\\n",
       "\t  7 & roc\\_auc  & binary & 0.9518491 & 5 & 0.0051224164 & Preprocessor1\\_Model006\\\\\n",
       "\t  8 & accuracy & binary & 0.8902208 & 5 & 0.0070113914 & Preprocessor1\\_Model007\\\\\n",
       "\t  8 & roc\\_auc  & binary & 0.9542093 & 5 & 0.0035568403 & Preprocessor1\\_Model007\\\\\n",
       "\t  9 & accuracy & binary & 0.8927445 & 5 & 0.0054638827 & Preprocessor1\\_Model008\\\\\n",
       "\t  9 & roc\\_auc  & binary & 0.9577412 & 5 & 0.0030284472 & Preprocessor1\\_Model008\\\\\n",
       "\t 10 & accuracy & binary & 0.8927445 & 5 & 0.0054638827 & Preprocessor1\\_Model009\\\\\n",
       "\t 10 & roc\\_auc  & binary & 0.9599934 & 5 & 0.0031150347 & Preprocessor1\\_Model009\\\\\n",
       "\t 11 & accuracy & binary & 0.8902208 & 5 & 0.0061816776 & Preprocessor1\\_Model010\\\\\n",
       "\t 11 & roc\\_auc  & binary & 0.9619089 & 5 & 0.0028722717 & Preprocessor1\\_Model010\\\\\n",
       "\t 12 & accuracy & binary & 0.8902208 & 5 & 0.0061816776 & Preprocessor1\\_Model011\\\\\n",
       "\t 12 & roc\\_auc  & binary & 0.9620336 & 5 & 0.0022900103 & Preprocessor1\\_Model011\\\\\n",
       "\t 13 & accuracy & binary & 0.8908517 & 5 & 0.0050473186 & Preprocessor1\\_Model012\\\\\n",
       "\t 13 & roc\\_auc  & binary & 0.9623577 & 5 & 0.0021059463 & Preprocessor1\\_Model012\\\\\n",
       "\t 14 & accuracy & binary & 0.8908517 & 5 & 0.0050473186 & Preprocessor1\\_Model013\\\\\n",
       "\t 14 & roc\\_auc  & binary & 0.9639491 & 5 & 0.0019067344 & Preprocessor1\\_Model013\\\\\n",
       "\t 15 & accuracy & binary & 0.8927445 & 5 & 0.0066170905 & Preprocessor1\\_Model014\\\\\n",
       "\t 15 & roc\\_auc  & binary & 0.9644187 & 5 & 0.0016552725 & Preprocessor1\\_Model014\\\\\n",
       "\t 16 & accuracy & binary & 0.8927445 & 5 & 0.0066170905 & Preprocessor1\\_Model015\\\\\n",
       "\t 16 & roc\\_auc  & binary & 0.9650586 & 5 & 0.0009229965 & Preprocessor1\\_Model015\\\\\n",
       "\t ⋮ & ⋮ & ⋮ & ⋮ & ⋮ & ⋮ & ⋮\\\\\n",
       "\t 136 & accuracy & binary & 0.9034700 & 5 & 0.002925432 & Preprocessor1\\_Model135\\\\\n",
       "\t 136 & roc\\_auc  & binary & 0.9708925 & 5 & 0.001731880 & Preprocessor1\\_Model135\\\\\n",
       "\t 137 & accuracy & binary & 0.9034700 & 5 & 0.003811686 & Preprocessor1\\_Model136\\\\\n",
       "\t 137 & roc\\_auc  & binary & 0.9708967 & 5 & 0.001695641 & Preprocessor1\\_Model136\\\\\n",
       "\t 138 & accuracy & binary & 0.9034700 & 5 & 0.003811686 & Preprocessor1\\_Model137\\\\\n",
       "\t 138 & roc\\_auc  & binary & 0.9707804 & 5 & 0.001698085 & Preprocessor1\\_Model137\\\\\n",
       "\t 139 & accuracy & binary & 0.9047319 & 5 & 0.004039826 & Preprocessor1\\_Model138\\\\\n",
       "\t 139 & roc\\_auc  & binary & 0.9706432 & 5 & 0.001706117 & Preprocessor1\\_Model138\\\\\n",
       "\t 140 & accuracy & binary & 0.9047319 & 5 & 0.004039826 & Preprocessor1\\_Model139\\\\\n",
       "\t 140 & roc\\_auc  & binary & 0.9706349 & 5 & 0.001679953 & Preprocessor1\\_Model139\\\\\n",
       "\t 141 & accuracy & binary & 0.9053628 & 5 & 0.003455663 & Preprocessor1\\_Model140\\\\\n",
       "\t 141 & roc\\_auc  & binary & 0.9707388 & 5 & 0.001688232 & Preprocessor1\\_Model140\\\\\n",
       "\t 142 & accuracy & binary & 0.9053628 & 5 & 0.003455663 & Preprocessor1\\_Model141\\\\\n",
       "\t 142 & roc\\_auc  & binary & 0.9707637 & 5 & 0.001682672 & Preprocessor1\\_Model141\\\\\n",
       "\t 143 & accuracy & binary & 0.9028391 & 5 & 0.005027564 & Preprocessor1\\_Model142\\\\\n",
       "\t 143 & roc\\_auc  & binary & 0.9707887 & 5 & 0.001671251 & Preprocessor1\\_Model142\\\\\n",
       "\t 144 & accuracy & binary & 0.9028391 & 5 & 0.005027564 & Preprocessor1\\_Model143\\\\\n",
       "\t 144 & roc\\_auc  & binary & 0.9707928 & 5 & 0.001710821 & Preprocessor1\\_Model143\\\\\n",
       "\t 145 & accuracy & binary & 0.9034700 & 5 & 0.005047319 & Preprocessor1\\_Model144\\\\\n",
       "\t 145 & roc\\_auc  & binary & 0.9706557 & 5 & 0.001687350 & Preprocessor1\\_Model144\\\\\n",
       "\t 146 & accuracy & binary & 0.9034700 & 5 & 0.005047319 & Preprocessor1\\_Model145\\\\\n",
       "\t 146 & roc\\_auc  & binary & 0.9705477 & 5 & 0.001713924 & Preprocessor1\\_Model145\\\\\n",
       "\t 147 & accuracy & binary & 0.9028391 & 5 & 0.004721334 & Preprocessor1\\_Model146\\\\\n",
       "\t 147 & roc\\_auc  & binary & 0.9705061 & 5 & 0.001760304 & Preprocessor1\\_Model146\\\\\n",
       "\t 148 & accuracy & binary & 0.9028391 & 5 & 0.004721334 & Preprocessor1\\_Model147\\\\\n",
       "\t 148 & roc\\_auc  & binary & 0.9705809 & 5 & 0.001680190 & Preprocessor1\\_Model147\\\\\n",
       "\t 149 & accuracy & binary & 0.9034700 & 5 & 0.004527666 & Preprocessor1\\_Model148\\\\\n",
       "\t 149 & roc\\_auc  & binary & 0.9705560 & 5 & 0.001695081 & Preprocessor1\\_Model148\\\\\n",
       "\t 150 & accuracy & binary & 0.9034700 & 5 & 0.004527666 & Preprocessor1\\_Model149\\\\\n",
       "\t 150 & roc\\_auc  & binary & 0.9706058 & 5 & 0.001720508 & Preprocessor1\\_Model149\\\\\n",
       "\\end{tabular}\n"
      ],
      "text/markdown": [
       "\n",
       "A tibble: 298 × 7\n",
       "\n",
       "| neighbors &lt;dbl&gt; | .metric &lt;chr&gt; | .estimator &lt;chr&gt; | mean &lt;dbl&gt; | n &lt;int&gt; | std_err &lt;dbl&gt; | .config &lt;chr&gt; |\n",
       "|---|---|---|---|---|---|---|\n",
       "|  2 | accuracy | binary | 0.8454259 | 5 | 0.0104625388 | Preprocessor1_Model001 |\n",
       "|  2 | roc_auc  | binary | 0.8999211 | 5 | 0.0070450402 | Preprocessor1_Model001 |\n",
       "|  3 | accuracy | binary | 0.8744479 | 5 | 0.0090553313 | Preprocessor1_Model002 |\n",
       "|  3 | roc_auc  | binary | 0.9230325 | 5 | 0.0031075916 | Preprocessor1_Model002 |\n",
       "|  4 | accuracy | binary | 0.8744479 | 5 | 0.0090553313 | Preprocessor1_Model003 |\n",
       "|  4 | roc_auc  | binary | 0.9377420 | 5 | 0.0037115073 | Preprocessor1_Model003 |\n",
       "|  5 | accuracy | binary | 0.8794953 | 5 | 0.0072211502 | Preprocessor1_Model004 |\n",
       "|  5 | roc_auc  | binary | 0.9435718 | 5 | 0.0038846270 | Preprocessor1_Model004 |\n",
       "|  6 | accuracy | binary | 0.8794953 | 5 | 0.0072211502 | Preprocessor1_Model005 |\n",
       "|  6 | roc_auc  | binary | 0.9484459 | 5 | 0.0045957149 | Preprocessor1_Model005 |\n",
       "|  7 | accuracy | binary | 0.8902208 | 5 | 0.0070113914 | Preprocessor1_Model006 |\n",
       "|  7 | roc_auc  | binary | 0.9518491 | 5 | 0.0051224164 | Preprocessor1_Model006 |\n",
       "|  8 | accuracy | binary | 0.8902208 | 5 | 0.0070113914 | Preprocessor1_Model007 |\n",
       "|  8 | roc_auc  | binary | 0.9542093 | 5 | 0.0035568403 | Preprocessor1_Model007 |\n",
       "|  9 | accuracy | binary | 0.8927445 | 5 | 0.0054638827 | Preprocessor1_Model008 |\n",
       "|  9 | roc_auc  | binary | 0.9577412 | 5 | 0.0030284472 | Preprocessor1_Model008 |\n",
       "| 10 | accuracy | binary | 0.8927445 | 5 | 0.0054638827 | Preprocessor1_Model009 |\n",
       "| 10 | roc_auc  | binary | 0.9599934 | 5 | 0.0031150347 | Preprocessor1_Model009 |\n",
       "| 11 | accuracy | binary | 0.8902208 | 5 | 0.0061816776 | Preprocessor1_Model010 |\n",
       "| 11 | roc_auc  | binary | 0.9619089 | 5 | 0.0028722717 | Preprocessor1_Model010 |\n",
       "| 12 | accuracy | binary | 0.8902208 | 5 | 0.0061816776 | Preprocessor1_Model011 |\n",
       "| 12 | roc_auc  | binary | 0.9620336 | 5 | 0.0022900103 | Preprocessor1_Model011 |\n",
       "| 13 | accuracy | binary | 0.8908517 | 5 | 0.0050473186 | Preprocessor1_Model012 |\n",
       "| 13 | roc_auc  | binary | 0.9623577 | 5 | 0.0021059463 | Preprocessor1_Model012 |\n",
       "| 14 | accuracy | binary | 0.8908517 | 5 | 0.0050473186 | Preprocessor1_Model013 |\n",
       "| 14 | roc_auc  | binary | 0.9639491 | 5 | 0.0019067344 | Preprocessor1_Model013 |\n",
       "| 15 | accuracy | binary | 0.8927445 | 5 | 0.0066170905 | Preprocessor1_Model014 |\n",
       "| 15 | roc_auc  | binary | 0.9644187 | 5 | 0.0016552725 | Preprocessor1_Model014 |\n",
       "| 16 | accuracy | binary | 0.8927445 | 5 | 0.0066170905 | Preprocessor1_Model015 |\n",
       "| 16 | roc_auc  | binary | 0.9650586 | 5 | 0.0009229965 | Preprocessor1_Model015 |\n",
       "| ⋮ | ⋮ | ⋮ | ⋮ | ⋮ | ⋮ | ⋮ |\n",
       "| 136 | accuracy | binary | 0.9034700 | 5 | 0.002925432 | Preprocessor1_Model135 |\n",
       "| 136 | roc_auc  | binary | 0.9708925 | 5 | 0.001731880 | Preprocessor1_Model135 |\n",
       "| 137 | accuracy | binary | 0.9034700 | 5 | 0.003811686 | Preprocessor1_Model136 |\n",
       "| 137 | roc_auc  | binary | 0.9708967 | 5 | 0.001695641 | Preprocessor1_Model136 |\n",
       "| 138 | accuracy | binary | 0.9034700 | 5 | 0.003811686 | Preprocessor1_Model137 |\n",
       "| 138 | roc_auc  | binary | 0.9707804 | 5 | 0.001698085 | Preprocessor1_Model137 |\n",
       "| 139 | accuracy | binary | 0.9047319 | 5 | 0.004039826 | Preprocessor1_Model138 |\n",
       "| 139 | roc_auc  | binary | 0.9706432 | 5 | 0.001706117 | Preprocessor1_Model138 |\n",
       "| 140 | accuracy | binary | 0.9047319 | 5 | 0.004039826 | Preprocessor1_Model139 |\n",
       "| 140 | roc_auc  | binary | 0.9706349 | 5 | 0.001679953 | Preprocessor1_Model139 |\n",
       "| 141 | accuracy | binary | 0.9053628 | 5 | 0.003455663 | Preprocessor1_Model140 |\n",
       "| 141 | roc_auc  | binary | 0.9707388 | 5 | 0.001688232 | Preprocessor1_Model140 |\n",
       "| 142 | accuracy | binary | 0.9053628 | 5 | 0.003455663 | Preprocessor1_Model141 |\n",
       "| 142 | roc_auc  | binary | 0.9707637 | 5 | 0.001682672 | Preprocessor1_Model141 |\n",
       "| 143 | accuracy | binary | 0.9028391 | 5 | 0.005027564 | Preprocessor1_Model142 |\n",
       "| 143 | roc_auc  | binary | 0.9707887 | 5 | 0.001671251 | Preprocessor1_Model142 |\n",
       "| 144 | accuracy | binary | 0.9028391 | 5 | 0.005027564 | Preprocessor1_Model143 |\n",
       "| 144 | roc_auc  | binary | 0.9707928 | 5 | 0.001710821 | Preprocessor1_Model143 |\n",
       "| 145 | accuracy | binary | 0.9034700 | 5 | 0.005047319 | Preprocessor1_Model144 |\n",
       "| 145 | roc_auc  | binary | 0.9706557 | 5 | 0.001687350 | Preprocessor1_Model144 |\n",
       "| 146 | accuracy | binary | 0.9034700 | 5 | 0.005047319 | Preprocessor1_Model145 |\n",
       "| 146 | roc_auc  | binary | 0.9705477 | 5 | 0.001713924 | Preprocessor1_Model145 |\n",
       "| 147 | accuracy | binary | 0.9028391 | 5 | 0.004721334 | Preprocessor1_Model146 |\n",
       "| 147 | roc_auc  | binary | 0.9705061 | 5 | 0.001760304 | Preprocessor1_Model146 |\n",
       "| 148 | accuracy | binary | 0.9028391 | 5 | 0.004721334 | Preprocessor1_Model147 |\n",
       "| 148 | roc_auc  | binary | 0.9705809 | 5 | 0.001680190 | Preprocessor1_Model147 |\n",
       "| 149 | accuracy | binary | 0.9034700 | 5 | 0.004527666 | Preprocessor1_Model148 |\n",
       "| 149 | roc_auc  | binary | 0.9705560 | 5 | 0.001695081 | Preprocessor1_Model148 |\n",
       "| 150 | accuracy | binary | 0.9034700 | 5 | 0.004527666 | Preprocessor1_Model149 |\n",
       "| 150 | roc_auc  | binary | 0.9706058 | 5 | 0.001720508 | Preprocessor1_Model149 |\n",
       "\n"
      ],
      "text/plain": [
       "    neighbors .metric  .estimator mean      n std_err     \n",
       "1    2        accuracy binary     0.8454259 5 0.0104625388\n",
       "2    2        roc_auc  binary     0.8999211 5 0.0070450402\n",
       "3    3        accuracy binary     0.8744479 5 0.0090553313\n",
       "4    3        roc_auc  binary     0.9230325 5 0.0031075916\n",
       "5    4        accuracy binary     0.8744479 5 0.0090553313\n",
       "6    4        roc_auc  binary     0.9377420 5 0.0037115073\n",
       "7    5        accuracy binary     0.8794953 5 0.0072211502\n",
       "8    5        roc_auc  binary     0.9435718 5 0.0038846270\n",
       "9    6        accuracy binary     0.8794953 5 0.0072211502\n",
       "10   6        roc_auc  binary     0.9484459 5 0.0045957149\n",
       "11   7        accuracy binary     0.8902208 5 0.0070113914\n",
       "12   7        roc_auc  binary     0.9518491 5 0.0051224164\n",
       "13   8        accuracy binary     0.8902208 5 0.0070113914\n",
       "14   8        roc_auc  binary     0.9542093 5 0.0035568403\n",
       "15   9        accuracy binary     0.8927445 5 0.0054638827\n",
       "16   9        roc_auc  binary     0.9577412 5 0.0030284472\n",
       "17  10        accuracy binary     0.8927445 5 0.0054638827\n",
       "18  10        roc_auc  binary     0.9599934 5 0.0031150347\n",
       "19  11        accuracy binary     0.8902208 5 0.0061816776\n",
       "20  11        roc_auc  binary     0.9619089 5 0.0028722717\n",
       "21  12        accuracy binary     0.8902208 5 0.0061816776\n",
       "22  12        roc_auc  binary     0.9620336 5 0.0022900103\n",
       "23  13        accuracy binary     0.8908517 5 0.0050473186\n",
       "24  13        roc_auc  binary     0.9623577 5 0.0021059463\n",
       "25  14        accuracy binary     0.8908517 5 0.0050473186\n",
       "26  14        roc_auc  binary     0.9639491 5 0.0019067344\n",
       "27  15        accuracy binary     0.8927445 5 0.0066170905\n",
       "28  15        roc_auc  binary     0.9644187 5 0.0016552725\n",
       "29  16        accuracy binary     0.8927445 5 0.0066170905\n",
       "30  16        roc_auc  binary     0.9650586 5 0.0009229965\n",
       "⋮   ⋮         ⋮        ⋮          ⋮         ⋮ ⋮           \n",
       "269 136       accuracy binary     0.9034700 5 0.002925432 \n",
       "270 136       roc_auc  binary     0.9708925 5 0.001731880 \n",
       "271 137       accuracy binary     0.9034700 5 0.003811686 \n",
       "272 137       roc_auc  binary     0.9708967 5 0.001695641 \n",
       "273 138       accuracy binary     0.9034700 5 0.003811686 \n",
       "274 138       roc_auc  binary     0.9707804 5 0.001698085 \n",
       "275 139       accuracy binary     0.9047319 5 0.004039826 \n",
       "276 139       roc_auc  binary     0.9706432 5 0.001706117 \n",
       "277 140       accuracy binary     0.9047319 5 0.004039826 \n",
       "278 140       roc_auc  binary     0.9706349 5 0.001679953 \n",
       "279 141       accuracy binary     0.9053628 5 0.003455663 \n",
       "280 141       roc_auc  binary     0.9707388 5 0.001688232 \n",
       "281 142       accuracy binary     0.9053628 5 0.003455663 \n",
       "282 142       roc_auc  binary     0.9707637 5 0.001682672 \n",
       "283 143       accuracy binary     0.9028391 5 0.005027564 \n",
       "284 143       roc_auc  binary     0.9707887 5 0.001671251 \n",
       "285 144       accuracy binary     0.9028391 5 0.005027564 \n",
       "286 144       roc_auc  binary     0.9707928 5 0.001710821 \n",
       "287 145       accuracy binary     0.9034700 5 0.005047319 \n",
       "288 145       roc_auc  binary     0.9706557 5 0.001687350 \n",
       "289 146       accuracy binary     0.9034700 5 0.005047319 \n",
       "290 146       roc_auc  binary     0.9705477 5 0.001713924 \n",
       "291 147       accuracy binary     0.9028391 5 0.004721334 \n",
       "292 147       roc_auc  binary     0.9705061 5 0.001760304 \n",
       "293 148       accuracy binary     0.9028391 5 0.004721334 \n",
       "294 148       roc_auc  binary     0.9705809 5 0.001680190 \n",
       "295 149       accuracy binary     0.9034700 5 0.004527666 \n",
       "296 149       roc_auc  binary     0.9705560 5 0.001695081 \n",
       "297 150       accuracy binary     0.9034700 5 0.004527666 \n",
       "298 150       roc_auc  binary     0.9706058 5 0.001720508 \n",
       "    .config               \n",
       "1   Preprocessor1_Model001\n",
       "2   Preprocessor1_Model001\n",
       "3   Preprocessor1_Model002\n",
       "4   Preprocessor1_Model002\n",
       "5   Preprocessor1_Model003\n",
       "6   Preprocessor1_Model003\n",
       "7   Preprocessor1_Model004\n",
       "8   Preprocessor1_Model004\n",
       "9   Preprocessor1_Model005\n",
       "10  Preprocessor1_Model005\n",
       "11  Preprocessor1_Model006\n",
       "12  Preprocessor1_Model006\n",
       "13  Preprocessor1_Model007\n",
       "14  Preprocessor1_Model007\n",
       "15  Preprocessor1_Model008\n",
       "16  Preprocessor1_Model008\n",
       "17  Preprocessor1_Model009\n",
       "18  Preprocessor1_Model009\n",
       "19  Preprocessor1_Model010\n",
       "20  Preprocessor1_Model010\n",
       "21  Preprocessor1_Model011\n",
       "22  Preprocessor1_Model011\n",
       "23  Preprocessor1_Model012\n",
       "24  Preprocessor1_Model012\n",
       "25  Preprocessor1_Model013\n",
       "26  Preprocessor1_Model013\n",
       "27  Preprocessor1_Model014\n",
       "28  Preprocessor1_Model014\n",
       "29  Preprocessor1_Model015\n",
       "30  Preprocessor1_Model015\n",
       "⋮   ⋮                     \n",
       "269 Preprocessor1_Model135\n",
       "270 Preprocessor1_Model135\n",
       "271 Preprocessor1_Model136\n",
       "272 Preprocessor1_Model136\n",
       "273 Preprocessor1_Model137\n",
       "274 Preprocessor1_Model137\n",
       "275 Preprocessor1_Model138\n",
       "276 Preprocessor1_Model138\n",
       "277 Preprocessor1_Model139\n",
       "278 Preprocessor1_Model139\n",
       "279 Preprocessor1_Model140\n",
       "280 Preprocessor1_Model140\n",
       "281 Preprocessor1_Model141\n",
       "282 Preprocessor1_Model141\n",
       "283 Preprocessor1_Model142\n",
       "284 Preprocessor1_Model142\n",
       "285 Preprocessor1_Model143\n",
       "286 Preprocessor1_Model143\n",
       "287 Preprocessor1_Model144\n",
       "288 Preprocessor1_Model144\n",
       "289 Preprocessor1_Model145\n",
       "290 Preprocessor1_Model145\n",
       "291 Preprocessor1_Model146\n",
       "292 Preprocessor1_Model146\n",
       "293 Preprocessor1_Model147\n",
       "294 Preprocessor1_Model147\n",
       "295 Preprocessor1_Model148\n",
       "296 Preprocessor1_Model148\n",
       "297 Preprocessor1_Model149\n",
       "298 Preprocessor1_Model149"
      ]
     },
     "metadata": {},
     "output_type": "display_data"
    }
   ],
   "source": [
    "ball_fit1"
   ]
  },
  {
   "cell_type": "code",
   "execution_count": 73,
   "id": "0bd79666-ab2a-4f7e-95fc-c72080e6d075",
   "metadata": {},
   "outputs": [
    {
     "data": {
      "image/png": "[encoded data removed]",
      "text/plain": [
       "plot without title"
      ]
     },
     "metadata": {
      "image/png": {
       "height": 480,
       "width": 720
      }
     },
     "output_type": "display_data"
    }
   ],
   "source": [
    "options(repr.plot.width = 12, repr.plot.height = 8)\n",
    "ggplot(ball_fit1 |> filter(.metric == \"accuracy\"), aes(x = neighbors, y = mean)) + geom_point() + geom_line()"
   ]
  },
  {
   "cell_type": "markdown",
   "id": "afb5463e-a0bd-4995-a8a2-b22ad6443804",
   "metadata": {
    "jp-MarkdownHeadingCollapsed": true,
    "tags": []
   },
   "source": [
    "## Next"
   ]
  },
  {
   "cell_type": "code",
   "execution_count": 20,
   "id": "e49def49-a31d-4aae-b148-b2ccd8cec6d3",
   "metadata": {},
   "outputs": [],
   "source": [
    "# Exploratory Analysis\n",
    "    # copy from earlier project..."
   ]
  },
  {
   "cell_type": "code",
   "execution_count": 21,
   "id": "8ee2be7f-6b36-44c2-9205-112ee001c84d",
   "metadata": {},
   "outputs": [],
   "source": [
    "# Initial Classification Model\n",
    "    # k-nn plot"
   ]
  },
  {
   "cell_type": "code",
   "execution_count": 22,
   "id": "56c96541-066c-46cd-b6ce-cb5733827715",
   "metadata": {},
   "outputs": [],
   "source": [
    "# Optimizing using Forward-Selection\n",
    "    # external library +\n",
    "    # k-nn plot"
   ]
  },
  {
   "cell_type": "code",
   "execution_count": 23,
   "id": "2dd9550c-16cc-4c24-852e-1741d6b27f82",
   "metadata": {},
   "outputs": [],
   "source": [
    "# Optimizing using All-Subset-Selection"
   ]
  },
  {
   "cell_type": "code",
   "execution_count": 24,
   "id": "581deb22-39a8-4759-8a9a-cd183b4617a4",
   "metadata": {},
   "outputs": [],
   "source": [
    "# Settling: can we at least predict if a player is a Gaurd or Forward?\n",
    "    # optimize using all-subset-selection\n",
    "    # visualize results with two best parameters"
   ]
  },
  {
   "cell_type": "markdown",
   "id": "c97464cd-035a-43c0-a56f-57e2bc9dd3a4",
   "metadata": {
    "tags": []
   },
   "source": [
    "# Discussion"
   ]
  },
  {
   "cell_type": "markdown",
   "id": "b1555c6f-0f36-4b82-a57a-98c7f7f12d7a",
   "metadata": {},
   "source": [
    "# Sources"
   ]
  },
  {
   "cell_type": "markdown",
   "id": "14c941e2-2c76-4d08-a91c-2b53226ab560",
   "metadata": {},
   "source": [
    "# Appendices"
   ]
  },
  {
   "cell_type": "code",
   "execution_count": null,
   "id": "883d9bb5-6c94-4156-bcd4-843e82b8ab9d",
   "metadata": {},
   "outputs": [],
   "source": []
  }
 ],
 "metadata": {
  "kernelspec": {
   "display_name": "R",
   "language": "R",
   "name": "ir"
  },
  "language_info": {
   "codemirror_mode": "r",
   "file_extension": ".r",
   "mimetype": "text/x-r-source",
   "name": "R",
   "pygments_lexer": "r",
   "version": "4.2.2"
  }
 },
 "nbformat": 4,
 "nbformat_minor": 5
}
